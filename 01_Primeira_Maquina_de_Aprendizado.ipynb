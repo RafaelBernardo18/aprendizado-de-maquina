{
  "nbformat": 4,
  "nbformat_minor": 0,
  "metadata": {
    "colab": {
      "name": "1 - Primeira_Maquina_de_Aprendizado.ipynb",
      "provenance": []
    },
    "kernelspec": {
      "name": "python3",
      "display_name": "Python 3"
    }
  },
  "cells": [
    {
      "cell_type": "markdown",
      "metadata": {
        "id": "1ApB7WS8pb2o"
      },
      "source": [
        "## Biblioteacas\n",
        " - importando bilbiotecas que vamos usar"
      ]
    },
    {
      "cell_type": "code",
      "metadata": {
        "id": "b2TTRhDJvoDN"
      },
      "source": [
        "from sklearn.svm import SVC\n",
        "from sklearn.model_selection import train_test_split\n",
        "from sklearn.metrics import accuracy_score\n",
        "from sklearn.datasets import load_iris"
      ],
      "execution_count": null,
      "outputs": []
    },
    {
      "cell_type": "markdown",
      "metadata": {
        "id": "BtWY_9sjprIs"
      },
      "source": [
        "## Carregando base \n",
        " - esta base classifica 3 tipos diferentes de flores iris\n",
        " - ela contem como parametros as medicoes das petalas e sepalas\n",
        " - o campo target é referente a resposta de qual classe de iris"
      ]
    },
    {
      "cell_type": "code",
      "metadata": {
        "id": "JHrUXEOtxSOI",
        "colab": {
          "base_uri": "https://localhost:8080/"
        },
        "outputId": "9811adeb-321e-451f-9380-4711e8e1d624"
      },
      "source": [
        "base = load_iris() \n",
        "\n",
        "print(base.target[[10, 50, 149]]) \n",
        "print(list(base.target_names))"
      ],
      "execution_count": null,
      "outputs": [
        {
          "output_type": "stream",
          "text": [
            "[0 1 2]\n",
            "['setosa', 'versicolor', 'virginica']\n"
          ],
          "name": "stdout"
        }
      ]
    },
    {
      "cell_type": "code",
      "metadata": {
        "id": "2YwPEMuqx6Ry"
      },
      "source": [
        "#caso você queira importar um csv da sua base de estudo você pode usa a bibliotea pandas\n",
        "\n",
        "#import pandas as pd\n",
        "\n",
        "#base = 'arquivo_da_base.csv'\n",
        "#df = pd.read_csv(base)\n",
        "#df.head(10)"
      ],
      "execution_count": null,
      "outputs": []
    },
    {
      "cell_type": "markdown",
      "metadata": {
        "id": "apPPPngmqVgf"
      },
      "source": [
        "## Separando dados de classificação e resposta"
      ]
    },
    {
      "cell_type": "code",
      "metadata": {
        "id": "3ygxEU1r0NjB",
        "colab": {
          "base_uri": "https://localhost:8080/"
        },
        "outputId": "e108b031-5a00-4abc-9262-3b7539bf9e46"
      },
      "source": [
        "x = base['data']\n",
        "y = base['target']\n",
        "\n",
        "y"
      ],
      "execution_count": null,
      "outputs": [
        {
          "output_type": "execute_result",
          "data": {
            "text/plain": [
              "array([0, 0, 0, 0, 0, 0, 0, 0, 0, 0, 0, 0, 0, 0, 0, 0, 0, 0, 0, 0, 0, 0,\n",
              "       0, 0, 0, 0, 0, 0, 0, 0, 0, 0, 0, 0, 0, 0, 0, 0, 0, 0, 0, 0, 0, 0,\n",
              "       0, 0, 0, 0, 0, 0, 1, 1, 1, 1, 1, 1, 1, 1, 1, 1, 1, 1, 1, 1, 1, 1,\n",
              "       1, 1, 1, 1, 1, 1, 1, 1, 1, 1, 1, 1, 1, 1, 1, 1, 1, 1, 1, 1, 1, 1,\n",
              "       1, 1, 1, 1, 1, 1, 1, 1, 1, 1, 1, 1, 2, 2, 2, 2, 2, 2, 2, 2, 2, 2,\n",
              "       2, 2, 2, 2, 2, 2, 2, 2, 2, 2, 2, 2, 2, 2, 2, 2, 2, 2, 2, 2, 2, 2,\n",
              "       2, 2, 2, 2, 2, 2, 2, 2, 2, 2, 2, 2, 2, 2, 2, 2, 2, 2])"
            ]
          },
          "metadata": {
            "tags": []
          },
          "execution_count": 3
        }
      ]
    },
    {
      "cell_type": "markdown",
      "metadata": {
        "id": "y4Z4j_VUqkao"
      },
      "source": [
        "## Separando dados de treino e teste\n",
        " - fazemos isso para testar se a nossa maquina conseguiu aprender \n",
        " - separamos 25% dos dados para o teste"
      ]
    },
    {
      "cell_type": "code",
      "metadata": {
        "id": "M5U0Aagvz6XA",
        "colab": {
          "base_uri": "https://localhost:8080/"
        },
        "outputId": "2956dbd8-a90c-4c9b-c480-c80847e109cd"
      },
      "source": [
        " treino_x, teste_x, treino_y, teste_y = train_test_split(x, y, stratify=y, test_size=0.25)\n",
        "\n",
        "print(\"%d dados para treino e %d dados para teste \" % (len(treino_x), len(teste_x)))"
      ],
      "execution_count": null,
      "outputs": [
        {
          "output_type": "stream",
          "text": [
            "112 dados para treino e 38 dados para teste \n"
          ],
          "name": "stdout"
        }
      ]
    },
    {
      "cell_type": "markdown",
      "metadata": {
        "id": "kxhUIdWlq0yk"
      },
      "source": [
        "##Treinando o modelo e analisar percentual de acertos"
      ]
    },
    {
      "cell_type": "code",
      "metadata": {
        "id": "4NZXm1k52N_E",
        "colab": {
          "base_uri": "https://localhost:8080/"
        },
        "outputId": "4ece150e-422c-4b4a-fc65-b6c8643631b6"
      },
      "source": [
        "modelo = SVC() #instando classificador\n",
        "modelo.fit(treino_x, treino_y) #metodo treino com os dados de treino\n",
        "\n",
        "previsao = modelo.predict(teste_x) #metodo predict para classificar os dados de teste\n",
        "acertos = accuracy_score(previsao, teste_y) * 100 #avaliando as respostas\n",
        "print(\"percentual de acetos: %.2f\" % acertos + \"%\")"
      ],
      "execution_count": null,
      "outputs": [
        {
          "output_type": "stream",
          "text": [
            "percentual de acetos: 94.74%\n"
          ],
          "name": "stdout"
        }
      ]
    },
    {
      "cell_type": "markdown",
      "metadata": {
        "id": "08BbN1Roq8vC"
      },
      "source": [
        "##Fazendo suas proprias predições"
      ]
    },
    {
      "cell_type": "code",
      "metadata": {
        "id": "gs4ErYe54tyj",
        "colab": {
          "base_uri": "https://localhost:8080/"
        },
        "outputId": "e75a2b59-fd55-450b-92ad-cbd085e57cec"
      },
      "source": [
        "#fazendo suas proprias predicoes\n",
        "\n",
        "import numpy as np\n",
        "\n",
        "flores = np.array([[5.1, 3.5, 1.4, 0.2],\n",
        "       [6.4, 3.2, 4.5, 1.5],\n",
        "       [6.7, 3.1, 5.6, 2.4]])\n",
        "\n",
        "previsao = modelo.predict(flores)\n",
        "\n",
        "print(previsao) #nossa maquina classificou as respostas como setosa, versilicor e virginica"
      ],
      "execution_count": null,
      "outputs": [
        {
          "output_type": "stream",
          "text": [
            "[0 1 2]\n"
          ],
          "name": "stdout"
        }
      ]
    }
  ]
}
