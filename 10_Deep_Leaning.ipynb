{
  "nbformat": 4,
  "nbformat_minor": 0,
  "metadata": {
    "colab": {
      "name": "10 - Deep Leaning.ipynb",
      "provenance": [],
      "collapsed_sections": []
    },
    "kernelspec": {
      "name": "python3",
      "display_name": "Python 3"
    }
  },
  "cells": [
    {
      "cell_type": "markdown",
      "metadata": {
        "id": "0Wss8NLHNgBu"
      },
      "source": [
        "##Bibliotecas\r\n",
        " - Importando bibliotecas que vamos utilizar"
      ]
    },
    {
      "cell_type": "code",
      "metadata": {
        "id": "eXxJg966NOd2"
      },
      "source": [
        "#para nosso estudo de deep learnig vamos utilizar o tensorflow \r\n",
        "#esse modulo é uma plataforma de codigo aberto completa para trabalhar com machine learning \r\n",
        "#sua extensao denominada keras irá nos auxiliar a criar redes neurais\r\n",
        "import tensorflow\r\n",
        "from tensorflow import keras\r\n",
        "import numpy as np\r\n",
        "import matplotlib.pyplot as plt"
      ],
      "execution_count": 1,
      "outputs": []
    },
    {
      "cell_type": "markdown",
      "metadata": {
        "id": "u3MMqa7NOpwS"
      },
      "source": [
        "##Carregando Base\r\n",
        " - vamos utilizar a base fashion_mnist que esta contida no proprio keras\r\n",
        " - esta base possui imagens com classes de roupas"
      ]
    },
    {
      "cell_type": "code",
      "metadata": {
        "id": "o8pI9QRXOszC"
      },
      "source": [
        "base = keras.datasets.fashion_mnist"
      ],
      "execution_count": 2,
      "outputs": []
    },
    {
      "cell_type": "code",
      "metadata": {
        "id": "56m8-baDQIxu",
        "colab": {
          "base_uri": "https://localhost:8080/"
        },
        "outputId": "a5c40701-89ae-403f-c9cd-e7e33b19a7d7"
      },
      "source": [
        "#separando dados para treino e teste da rede \r\n",
        "((x_treino, y_treino), (x_teste, y_teste)) = base.load_data()"
      ],
      "execution_count": 3,
      "outputs": [
        {
          "output_type": "stream",
          "text": [
            "Downloading data from https://storage.googleapis.com/tensorflow/tf-keras-datasets/train-labels-idx1-ubyte.gz\n",
            "32768/29515 [=================================] - 0s 0us/step\n",
            "Downloading data from https://storage.googleapis.com/tensorflow/tf-keras-datasets/train-images-idx3-ubyte.gz\n",
            "26427392/26421880 [==============================] - 0s 0us/step\n",
            "Downloading data from https://storage.googleapis.com/tensorflow/tf-keras-datasets/t10k-labels-idx1-ubyte.gz\n",
            "8192/5148 [===============================================] - 0s 0us/step\n",
            "Downloading data from https://storage.googleapis.com/tensorflow/tf-keras-datasets/t10k-images-idx3-ubyte.gz\n",
            "4423680/4422102 [==============================] - 0s 0us/step\n"
          ],
          "name": "stdout"
        }
      ]
    },
    {
      "cell_type": "code",
      "metadata": {
        "colab": {
          "base_uri": "https://localhost:8080/"
        },
        "id": "TzNa4dgaRWLA",
        "outputId": "e3e6af0a-bd16-4a8a-9579-58d45c176c0c"
      },
      "source": [
        "#verificando as dimensoes da base\r\n",
        "len(x_treino)\r\n",
        "x_treino.shape"
      ],
      "execution_count": 4,
      "outputs": [
        {
          "output_type": "execute_result",
          "data": {
            "text/plain": [
              "(60000, 28, 28)"
            ]
          },
          "metadata": {
            "tags": []
          },
          "execution_count": 4
        }
      ]
    },
    {
      "cell_type": "code",
      "metadata": {
        "colab": {
          "base_uri": "https://localhost:8080/",
          "height": 283
        },
        "id": "WoI96RX6TuSz",
        "outputId": "10618e5b-0a9a-4e25-db6f-e17704bb245f"
      },
      "source": [
        "#verificando alguma imagem\r\n",
        "plt.imshow(x_treino[400])"
      ],
      "execution_count": 5,
      "outputs": [
        {
          "output_type": "execute_result",
          "data": {
            "text/plain": [
              "<matplotlib.image.AxesImage at 0x7f1dc2035160>"
            ]
          },
          "metadata": {
            "tags": []
          },
          "execution_count": 5
        },
        {
          "output_type": "display_data",
          "data": {
            "image/png": "[encoded data removed]",
            "text/plain": [
              "<Figure size 432x288 with 1 Axes>"
            ]
          },
          "metadata": {
            "tags": [],
            "needs_background": "light"
          }
        }
      ]
    },
    {
      "cell_type": "markdown",
      "metadata": {
        "id": "3Kf4jcR_Urlv"
      },
      "source": [
        "##Criando e treinando nossa rede neural"
      ]
    },
    {
      "cell_type": "code",
      "metadata": {
        "id": "HPnWHjOtU4Py"
      },
      "source": [
        "#subdividir as imagens em pixels faz com que o treino possua uma perda menor\r\n",
        "x_treino = x_treino/255\r\n",
        "x_teste = x_teste/255"
      ],
      "execution_count": 6,
      "outputs": []
    },
    {
      "cell_type": "code",
      "metadata": {
        "id": "67PdN4VoWStS"
      },
      "source": [
        "#criando a rede neural\r\n",
        "#uma rede neural trabalha com camadas e é possivel configurar cada uma delas\r\n",
        "#a camada Flatten é precisso informar as dimenssoes da base \r\n",
        "#na camada Dense é onde acontece sinapses entre os neuronios é preciso informar a quantidade de neuronios e a funcao de ativacao que vao utilizar\r\n",
        "#é valido resaltar que existem varias funcoes de ativacao, pois estas refletem em uma disposicao grafica para classificao dos dados\r\n",
        "#logo para cada problema de deep learning podera ser preciso usar varias funcoes diferentes em varias camadas\r\n",
        "#na sessao Dropout realizamos uma breve pausa antes da rede trocar de uma camada para a outra \r\n",
        "modelo = keras.Sequential([\r\n",
        "      keras.layers.Flatten(input_shape=(28, 28)),\r\n",
        "      keras.layers.Dense(256, activation=tensorflow.nn.relu),\r\n",
        "      keras.layers.Dropout(0.2),\r\n",
        "      keras.layers.Dense(128, activation=tensorflow.nn.relu),\r\n",
        "      keras.layers.Dropout(0.2),\r\n",
        "      keras.layers.Dense(10, activation=tensorflow.nn.softmax)                          \r\n",
        "])"
      ],
      "execution_count": 7,
      "outputs": []
    },
    {
      "cell_type": "code",
      "metadata": {
        "colab": {
          "base_uri": "https://localhost:8080/"
        },
        "id": "w8lGs4mgZBZH",
        "outputId": "c9b823f1-618a-491f-f5ea-a538b62952e7"
      },
      "source": [
        "#compilando o nosso otimizador e verificando historico de aprendizagem\r\n",
        "#nessa etapa é onde escolhemos o algoritmo usado no processo de aprendizagem \r\n",
        "#assim como as funcoes de ativacao existem muitos otimizadores e cada caso pode ser melhor que o outro ems bases expecificas\r\n",
        "#cada um dos hiperparametros já são ajustados na insancia da funcao optimizers, mas é sempre uma boa pratica alteralos para aprimorar o teinamento da rede\r\n",
        "opt = keras.optimizers.Adam(learning_rate=0.0001)\r\n",
        "modelo.compile(optimizer = opt , loss = 'sparse_categorical_crossentropy', metrics=['accuracy']) \r\n",
        "\r\n",
        "historico = modelo.fit(x_treino, y_treino, epochs = 5, validation_split=0.2)\r\n",
        "#abaixo nos vemos parametros de acertos e perdas ao longo de todas as epocas de trinamento que a rede fez\r\n",
        "#é muito importante entender que nem sempre um treinamento com muitas epocas ou taxa de aprendizado alto irá ajudar a rede"
      ],
      "execution_count": 8,
      "outputs": [
        {
          "output_type": "stream",
          "text": [
            "Epoch 1/5\n",
            "1500/1500 [==============================] - 6s 4ms/step - loss: 1.0601 - accuracy: 0.6431 - val_loss: 0.4919 - val_accuracy: 0.8264\n",
            "Epoch 2/5\n",
            "1500/1500 [==============================] - 5s 3ms/step - loss: 0.5257 - accuracy: 0.8163 - val_loss: 0.4364 - val_accuracy: 0.8470\n",
            "Epoch 3/5\n",
            "1500/1500 [==============================] - 6s 4ms/step - loss: 0.4523 - accuracy: 0.8400 - val_loss: 0.4007 - val_accuracy: 0.8574\n",
            "Epoch 4/5\n",
            "1500/1500 [==============================] - 6s 4ms/step - loss: 0.4124 - accuracy: 0.8531 - val_loss: 0.3795 - val_accuracy: 0.8643\n",
            "Epoch 5/5\n",
            "1500/1500 [==============================] - 6s 4ms/step - loss: 0.3877 - accuracy: 0.8640 - val_loss: 0.3630 - val_accuracy: 0.8705\n"
          ],
          "name": "stdout"
        }
      ]
    },
    {
      "cell_type": "markdown",
      "metadata": {
        "id": "F2iBBPo7jrt8"
      },
      "source": [
        "##Verificando aprendizagem e perda durante todo o processo de aprendeizagem"
      ]
    },
    {
      "cell_type": "code",
      "metadata": {
        "colab": {
          "base_uri": "https://localhost:8080/",
          "height": 315
        },
        "id": "zlfn2oOokCOF",
        "outputId": "5fabe922-a18b-425f-fcde-aa8c13233881"
      },
      "source": [
        "#neste grafico nos vamos comparar a taxa de acertos do treino e da validacao\r\n",
        "plt.plot(historico.history['accuracy'])\r\n",
        "plt.plot(historico.history['val_accuracy'])\r\n",
        "plt.title('Acuracia / Épocas')\r\n",
        "plt.xlabel('épocas')\r\n",
        "plt.ylabel('acuracia')\r\n",
        "plt.legend(['treino','validacao'])\r\n",
        "#perceba que este grafico possui uma tendencia em aumentar com o numero de epocas e treinamentos\r\n",
        "#mas para a analise deste, é importante nao deixar a linha de treino ultrapassar a linha de validacao"
      ],
      "execution_count": 9,
      "outputs": [
        {
          "output_type": "execute_result",
          "data": {
            "text/plain": [
              "<matplotlib.legend.Legend at 0x7f1dbb2ecc50>"
            ]
          },
          "metadata": {
            "tags": []
          },
          "execution_count": 9
        },
        {
          "output_type": "display_data",
          "data": {
            "image/png": "[encoded data removed]",
            "text/plain": [
              "<Figure size 432x288 with 1 Axes>"
            ]
          },
          "metadata": {
            "tags": [],
            "needs_background": "light"
          }
        }
      ]
    },
    {
      "cell_type": "code",
      "metadata": {
        "colab": {
          "base_uri": "https://localhost:8080/",
          "height": 315
        },
        "id": "M201i0nLlMms",
        "outputId": "f2f287c5-1ea9-4dd1-cee1-bf6b46f79219"
      },
      "source": [
        "#já neste grafico nos comparamos a perda que o treino e a validacao possui em suas epocas \r\n",
        "plt.plot(historico.history['loss'])\r\n",
        "plt.plot(historico.history['val_loss'])\r\n",
        "plt.title('Perda / Épocas')\r\n",
        "plt.xlabel('épocas')\r\n",
        "plt.ylabel('perda')\r\n",
        "plt.legend(['treino', 'validacao'])\r\n",
        "#ja neste grafico possui uma tendencia em diminiuir com o numero de epocas e treinamentos\r\n",
        "#mas para a anlise deste, é importante nao deixar a linha de treino diminuir muito em relacao a linha de validacao"
      ],
      "execution_count": 10,
      "outputs": [
        {
          "output_type": "execute_result",
          "data": {
            "text/plain": [
              "<matplotlib.legend.Legend at 0x7f1dbaab6d30>"
            ]
          },
          "metadata": {
            "tags": []
          },
          "execution_count": 10
        },
        {
          "output_type": "display_data",
          "data": {
            "image/png": "[encoded data removed]",
            "text/plain": [
              "<Figure size 432x288 with 1 Axes>"
            ]
          },
          "metadata": {
            "tags": [],
            "needs_background": "light"
          }
        }
      ]
    },
    {
      "cell_type": "markdown",
      "metadata": {
        "id": "x8xDC-viY4OR"
      },
      "source": [
        "##Criando um segundo modelo "
      ]
    },
    {
      "cell_type": "code",
      "metadata": {
        "id": "S135ZKUNY3vP"
      },
      "source": [
        "#basicamente vou manter a mesma estrutura da rede\r\n",
        "#pelo fato de que ja é possivel notar que ela possui um aprendizado significante\r\n",
        "modelo_2 = keras.Sequential([\r\n",
        "      keras.layers.Flatten(input_shape=(28, 28)),\r\n",
        "      keras.layers.Dense(256, activation=tensorflow.nn.relu),\r\n",
        "      keras.layers.Dropout(0.2),\r\n",
        "      keras.layers.Dense(128, activation=tensorflow.nn.relu),\r\n",
        "      keras.layers.Dropout(0.2),\r\n",
        "      keras.layers.Dense(10, activation=tensorflow.nn.softmax)                          \r\n",
        "])"
      ],
      "execution_count": 11,
      "outputs": []
    },
    {
      "cell_type": "code",
      "metadata": {
        "colab": {
          "base_uri": "https://localhost:8080/"
        },
        "id": "OY_crRlIZTQB",
        "outputId": "06231672-16e9-40ad-f9be-465637d115d1"
      },
      "source": [
        "opt_2 = keras.optimizers.Adam(learning_rate=0.0001)\r\n",
        "modelo_2.compile(optimizer = opt_2 , loss = 'sparse_categorical_crossentropy', metrics=['accuracy']) \r\n",
        "\r\n",
        "historico_2 = modelo_2.fit(x_treino, y_treino, epochs = 25, validation_split=0.2)\r\n",
        "#perceba agora que eu alterei o numero de epocas propositalmente\r\n",
        "#a primeiro momento parece que essa rede aprendeu mais do que a anterior...\r\n",
        "#pois suas taxas de aprendizados e perda mudaram \r\n",
        "#mas vamos analisar uns graficos para ver oq realmente aconteceu"
      ],
      "execution_count": 12,
      "outputs": [
        {
          "output_type": "stream",
          "text": [
            "Epoch 1/25\n",
            "1500/1500 [==============================] - 6s 4ms/step - loss: 1.0867 - accuracy: 0.6345 - val_loss: 0.4916 - val_accuracy: 0.8321\n",
            "Epoch 2/25\n",
            "1500/1500 [==============================] - 5s 4ms/step - loss: 0.5180 - accuracy: 0.8201 - val_loss: 0.4249 - val_accuracy: 0.8501\n",
            "Epoch 3/25\n",
            "1500/1500 [==============================] - 5s 4ms/step - loss: 0.4555 - accuracy: 0.8417 - val_loss: 0.3943 - val_accuracy: 0.8580\n",
            "Epoch 4/25\n",
            "1500/1500 [==============================] - 5s 4ms/step - loss: 0.4077 - accuracy: 0.8539 - val_loss: 0.3777 - val_accuracy: 0.8629\n",
            "Epoch 5/25\n",
            "1500/1500 [==============================] - 5s 4ms/step - loss: 0.3812 - accuracy: 0.8663 - val_loss: 0.3597 - val_accuracy: 0.8723\n",
            "Epoch 6/25\n",
            "1500/1500 [==============================] - 5s 4ms/step - loss: 0.3653 - accuracy: 0.8724 - val_loss: 0.3487 - val_accuracy: 0.8723\n",
            "Epoch 7/25\n",
            "1500/1500 [==============================] - 6s 4ms/step - loss: 0.3463 - accuracy: 0.8783 - val_loss: 0.3382 - val_accuracy: 0.8783\n",
            "Epoch 8/25\n",
            "1500/1500 [==============================] - 5s 4ms/step - loss: 0.3369 - accuracy: 0.8781 - val_loss: 0.3298 - val_accuracy: 0.8822\n",
            "Epoch 9/25\n",
            "1500/1500 [==============================] - 5s 3ms/step - loss: 0.3217 - accuracy: 0.8840 - val_loss: 0.3255 - val_accuracy: 0.8815\n",
            "Epoch 10/25\n",
            "1500/1500 [==============================] - 5s 3ms/step - loss: 0.3161 - accuracy: 0.8865 - val_loss: 0.3294 - val_accuracy: 0.8803\n",
            "Epoch 11/25\n",
            "1500/1500 [==============================] - 5s 3ms/step - loss: 0.3055 - accuracy: 0.8913 - val_loss: 0.3186 - val_accuracy: 0.8836\n",
            "Epoch 12/25\n",
            "1500/1500 [==============================] - 5s 4ms/step - loss: 0.2979 - accuracy: 0.8915 - val_loss: 0.3128 - val_accuracy: 0.8870\n",
            "Epoch 13/25\n",
            "1500/1500 [==============================] - 5s 4ms/step - loss: 0.2845 - accuracy: 0.8978 - val_loss: 0.3113 - val_accuracy: 0.8870\n",
            "Epoch 14/25\n",
            "1500/1500 [==============================] - 5s 4ms/step - loss: 0.2840 - accuracy: 0.8984 - val_loss: 0.3092 - val_accuracy: 0.8881\n",
            "Epoch 15/25\n",
            "1500/1500 [==============================] - 6s 4ms/step - loss: 0.2831 - accuracy: 0.8980 - val_loss: 0.3115 - val_accuracy: 0.8883\n",
            "Epoch 16/25\n",
            "1500/1500 [==============================] - 5s 3ms/step - loss: 0.2703 - accuracy: 0.9022 - val_loss: 0.3028 - val_accuracy: 0.8906\n",
            "Epoch 17/25\n",
            "1500/1500 [==============================] - 5s 3ms/step - loss: 0.2672 - accuracy: 0.9024 - val_loss: 0.3012 - val_accuracy: 0.8912\n",
            "Epoch 18/25\n",
            "1500/1500 [==============================] - 5s 3ms/step - loss: 0.2627 - accuracy: 0.9029 - val_loss: 0.3007 - val_accuracy: 0.8898\n",
            "Epoch 19/25\n",
            "1500/1500 [==============================] - 5s 3ms/step - loss: 0.2516 - accuracy: 0.9084 - val_loss: 0.2957 - val_accuracy: 0.8930\n",
            "Epoch 20/25\n",
            "1500/1500 [==============================] - 5s 3ms/step - loss: 0.2434 - accuracy: 0.9086 - val_loss: 0.2980 - val_accuracy: 0.8931\n",
            "Epoch 21/25\n",
            "1500/1500 [==============================] - 5s 3ms/step - loss: 0.2496 - accuracy: 0.9089 - val_loss: 0.2956 - val_accuracy: 0.8925\n",
            "Epoch 22/25\n",
            "1500/1500 [==============================] - 5s 4ms/step - loss: 0.2317 - accuracy: 0.9139 - val_loss: 0.2963 - val_accuracy: 0.8938\n",
            "Epoch 23/25\n",
            "1500/1500 [==============================] - 5s 3ms/step - loss: 0.2335 - accuracy: 0.9160 - val_loss: 0.3005 - val_accuracy: 0.8940\n",
            "Epoch 24/25\n",
            "1500/1500 [==============================] - 5s 4ms/step - loss: 0.2328 - accuracy: 0.9129 - val_loss: 0.3026 - val_accuracy: 0.8926\n",
            "Epoch 25/25\n",
            "1500/1500 [==============================] - 5s 4ms/step - loss: 0.2230 - accuracy: 0.9173 - val_loss: 0.2938 - val_accuracy: 0.8934\n"
          ],
          "name": "stdout"
        }
      ]
    },
    {
      "cell_type": "code",
      "metadata": {
        "colab": {
          "base_uri": "https://localhost:8080/",
          "height": 315
        },
        "id": "YceSKC29aNFR",
        "outputId": "f0e0caa4-d98d-4baa-91b2-46c3c6b20088"
      },
      "source": [
        "#grafica de comparacao acertos \r\n",
        "plt.plot(historico_2.history['accuracy'])\r\n",
        "plt.plot(historico_2.history['val_accuracy'])\r\n",
        "plt.title('Acuracia / Épocas')\r\n",
        "plt.xlabel('épocas')\r\n",
        "plt.ylabel('acuracia')\r\n",
        "plt.legend(['treino','validacao'])\r\n",
        "#aqui é possivel destacar um fenomeno interessante \r\n",
        "#no grafico nos conseguimos ver que a taxa de acertos no periodo de treino ultrapassou a taxa de acetos no periodo da validacao\r\n",
        "#o nome desse fenomeno é chamado de overfitting \r\n",
        "#em outras palavras a rede já não esta mais aprendendo, ela decorou todo os dados presentes na base \r\n",
        "#isso remete a quando uma rede neural possui muito tempo de treinamento, taxa de aprendizado alta ou hiperparamentros mal configurados  "
      ],
      "execution_count": 13,
      "outputs": [
        {
          "output_type": "execute_result",
          "data": {
            "text/plain": [
              "<matplotlib.legend.Legend at 0x7f1dba8d9ba8>"
            ]
          },
          "metadata": {
            "tags": []
          },
          "execution_count": 13
        },
        {
          "output_type": "display_data",
          "data": {
            "image/png": "[encoded data removed]",
            "text/plain": [
              "<Figure size 432x288 with 1 Axes>"
            ]
          },
          "metadata": {
            "tags": [],
            "needs_background": "light"
          }
        }
      ]
    },
    {
      "cell_type": "code",
      "metadata": {
        "colab": {
          "base_uri": "https://localhost:8080/",
          "height": 315
        },
        "id": "CZKYqQYMa4y_",
        "outputId": "f9cd887d-d382-40df-d0a8-052907b4f810"
      },
      "source": [
        "#grafica de comparacao acertos \r\n",
        "plt.plot(historico_2.history['loss'])\r\n",
        "plt.plot(historico_2.history['val_loss'])\r\n",
        "plt.title('Perda / Épocas')\r\n",
        "plt.xlabel('épocas')\r\n",
        "plt.ylabel('perda')\r\n",
        "plt.legend(['treino', 'validacao'])\r\n",
        "#nesse grafico tambem encontramos o fenomeno de overfitting, ja que ela ja decorou todos os dados na base\r\n",
        "#basicamente a rede ja perdeu a capacidade de aprender ... ela é agora uma especialista nessa base de dados\r\n",
        "#caso esse modelo fosse exportado e aplicado em producao ele nao conseguiria classificar novos dados "
      ],
      "execution_count": 14,
      "outputs": [
        {
          "output_type": "execute_result",
          "data": {
            "text/plain": [
              "<matplotlib.legend.Legend at 0x7f1dba0787b8>"
            ]
          },
          "metadata": {
            "tags": []
          },
          "execution_count": 14
        },
        {
          "output_type": "display_data",
          "data": {
            "image/png": "[encoded data removed]",
            "text/plain": [
              "<Figure size 432x288 with 1 Axes>"
            ]
          },
          "metadata": {
            "tags": [],
            "needs_background": "light"
          }
        }
      ]
    }
  ]
}