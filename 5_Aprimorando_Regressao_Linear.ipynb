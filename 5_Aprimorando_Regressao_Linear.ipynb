{
  "nbformat": 4,
  "nbformat_minor": 0,
  "metadata": {
    "colab": {
      "name": "5 - Aprimorando_Regressao_Linear.ipynb",
      "provenance": []
    },
    "kernelspec": {
      "name": "python3",
      "display_name": "Python 3"
    }
  },
  "cells": [
    {
      "cell_type": "markdown",
      "metadata": {
        "id": "K5wCttJ_EhP8"
      },
      "source": [
        "##Importando bibliotecas"
      ]
    },
    {
      "cell_type": "code",
      "metadata": {
        "id": "wNLXfjwzEbON"
      },
      "source": [
        "from sklearn.datasets import load_boston\n",
        "from sklearn.model_selection import train_test_split \n",
        "from sklearn.linear_model import LinearRegression\n",
        "import numpy as np\n",
        "import pandas as pd\n",
        "import seaborn as sns\n",
        "import matplotlib.pyplot as plt"
      ],
      "execution_count": 1,
      "outputs": []
    },
    {
      "cell_type": "markdown",
      "metadata": {
        "id": "O7x1GOSDFVe_"
      },
      "source": [
        "##Carregando base"
      ]
    },
    {
      "cell_type": "code",
      "metadata": {
        "id": "f9Lm1P0lFSqs",
        "colab": {
          "base_uri": "https://localhost:8080/"
        },
        "outputId": "47c29a19-50f3-4e94-f5a5-d4af1707e910"
      },
      "source": [
        "entrada, saida  = load_boston(return_X_y=True)\n",
        "\n",
        "print(entrada.shape)\n",
        "print(saida.shape)"
      ],
      "execution_count": 2,
      "outputs": [
        {
          "output_type": "stream",
          "text": [
            "(506, 13)\n",
            "(506,)\n"
          ],
          "name": "stdout"
        }
      ]
    },
    {
      "cell_type": "code",
      "metadata": {
        "id": "DE9Gyk6gFw8M",
        "colab": {
          "base_uri": "https://localhost:8080/",
          "height": 447
        },
        "outputId": "088c08c4-4ae6-49b4-e17d-ee7313212575"
      },
      "source": [
        "df_x = pd.DataFrame(data = entrada , columns=['CRIM','ZN','INDUS','CHAS','NOX','RM',\n",
        "                                        'AGE','DIS','RAD','TAX','PTRATIO', \n",
        "                                        'B 1000(Bk - 0.63)^2', 'LSTAT %'])\n",
        "df_y = pd.DataFrame(data = saida, columns=['MEDV'])\n",
        "\n",
        "df_x.head(10).T"
      ],
      "execution_count": 3,
      "outputs": [
        {
          "output_type": "execute_result",
          "data": {
            "text/html": [
              "<div>\n",
              "<style scoped>\n",
              "    .dataframe tbody tr th:only-of-type {\n",
              "        vertical-align: middle;\n",
              "    }\n",
              "\n",
              "    .dataframe tbody tr th {\n",
              "        vertical-align: top;\n",
              "    }\n",
              "\n",
              "    .dataframe thead th {\n",
              "        text-align: right;\n",
              "    }\n",
              "</style>\n",
              "<table border=\"1\" class=\"dataframe\">\n",
              "  <thead>\n",
              "    <tr style=\"text-align: right;\">\n",
              "      <th></th>\n",
              "      <th>0</th>\n",
              "      <th>1</th>\n",
              "      <th>2</th>\n",
              "      <th>3</th>\n",
              "      <th>4</th>\n",
              "      <th>5</th>\n",
              "      <th>6</th>\n",
              "      <th>7</th>\n",
              "      <th>8</th>\n",
              "      <th>9</th>\n",
              "    </tr>\n",
              "  </thead>\n",
              "  <tbody>\n",
              "    <tr>\n",
              "      <th>CRIM</th>\n",
              "      <td>0.00632</td>\n",
              "      <td>0.02731</td>\n",
              "      <td>0.02729</td>\n",
              "      <td>0.03237</td>\n",
              "      <td>0.06905</td>\n",
              "      <td>0.02985</td>\n",
              "      <td>0.08829</td>\n",
              "      <td>0.14455</td>\n",
              "      <td>0.21124</td>\n",
              "      <td>0.17004</td>\n",
              "    </tr>\n",
              "    <tr>\n",
              "      <th>ZN</th>\n",
              "      <td>18.00000</td>\n",
              "      <td>0.00000</td>\n",
              "      <td>0.00000</td>\n",
              "      <td>0.00000</td>\n",
              "      <td>0.00000</td>\n",
              "      <td>0.00000</td>\n",
              "      <td>12.50000</td>\n",
              "      <td>12.50000</td>\n",
              "      <td>12.50000</td>\n",
              "      <td>12.50000</td>\n",
              "    </tr>\n",
              "    <tr>\n",
              "      <th>INDUS</th>\n",
              "      <td>2.31000</td>\n",
              "      <td>7.07000</td>\n",
              "      <td>7.07000</td>\n",
              "      <td>2.18000</td>\n",
              "      <td>2.18000</td>\n",
              "      <td>2.18000</td>\n",
              "      <td>7.87000</td>\n",
              "      <td>7.87000</td>\n",
              "      <td>7.87000</td>\n",
              "      <td>7.87000</td>\n",
              "    </tr>\n",
              "    <tr>\n",
              "      <th>CHAS</th>\n",
              "      <td>0.00000</td>\n",
              "      <td>0.00000</td>\n",
              "      <td>0.00000</td>\n",
              "      <td>0.00000</td>\n",
              "      <td>0.00000</td>\n",
              "      <td>0.00000</td>\n",
              "      <td>0.00000</td>\n",
              "      <td>0.00000</td>\n",
              "      <td>0.00000</td>\n",
              "      <td>0.00000</td>\n",
              "    </tr>\n",
              "    <tr>\n",
              "      <th>NOX</th>\n",
              "      <td>0.53800</td>\n",
              "      <td>0.46900</td>\n",
              "      <td>0.46900</td>\n",
              "      <td>0.45800</td>\n",
              "      <td>0.45800</td>\n",
              "      <td>0.45800</td>\n",
              "      <td>0.52400</td>\n",
              "      <td>0.52400</td>\n",
              "      <td>0.52400</td>\n",
              "      <td>0.52400</td>\n",
              "    </tr>\n",
              "    <tr>\n",
              "      <th>RM</th>\n",
              "      <td>6.57500</td>\n",
              "      <td>6.42100</td>\n",
              "      <td>7.18500</td>\n",
              "      <td>6.99800</td>\n",
              "      <td>7.14700</td>\n",
              "      <td>6.43000</td>\n",
              "      <td>6.01200</td>\n",
              "      <td>6.17200</td>\n",
              "      <td>5.63100</td>\n",
              "      <td>6.00400</td>\n",
              "    </tr>\n",
              "    <tr>\n",
              "      <th>AGE</th>\n",
              "      <td>65.20000</td>\n",
              "      <td>78.90000</td>\n",
              "      <td>61.10000</td>\n",
              "      <td>45.80000</td>\n",
              "      <td>54.20000</td>\n",
              "      <td>58.70000</td>\n",
              "      <td>66.60000</td>\n",
              "      <td>96.10000</td>\n",
              "      <td>100.00000</td>\n",
              "      <td>85.90000</td>\n",
              "    </tr>\n",
              "    <tr>\n",
              "      <th>DIS</th>\n",
              "      <td>4.09000</td>\n",
              "      <td>4.96710</td>\n",
              "      <td>4.96710</td>\n",
              "      <td>6.06220</td>\n",
              "      <td>6.06220</td>\n",
              "      <td>6.06220</td>\n",
              "      <td>5.56050</td>\n",
              "      <td>5.95050</td>\n",
              "      <td>6.08210</td>\n",
              "      <td>6.59210</td>\n",
              "    </tr>\n",
              "    <tr>\n",
              "      <th>RAD</th>\n",
              "      <td>1.00000</td>\n",
              "      <td>2.00000</td>\n",
              "      <td>2.00000</td>\n",
              "      <td>3.00000</td>\n",
              "      <td>3.00000</td>\n",
              "      <td>3.00000</td>\n",
              "      <td>5.00000</td>\n",
              "      <td>5.00000</td>\n",
              "      <td>5.00000</td>\n",
              "      <td>5.00000</td>\n",
              "    </tr>\n",
              "    <tr>\n",
              "      <th>TAX</th>\n",
              "      <td>296.00000</td>\n",
              "      <td>242.00000</td>\n",
              "      <td>242.00000</td>\n",
              "      <td>222.00000</td>\n",
              "      <td>222.00000</td>\n",
              "      <td>222.00000</td>\n",
              "      <td>311.00000</td>\n",
              "      <td>311.00000</td>\n",
              "      <td>311.00000</td>\n",
              "      <td>311.00000</td>\n",
              "    </tr>\n",
              "    <tr>\n",
              "      <th>PTRATIO</th>\n",
              "      <td>15.30000</td>\n",
              "      <td>17.80000</td>\n",
              "      <td>17.80000</td>\n",
              "      <td>18.70000</td>\n",
              "      <td>18.70000</td>\n",
              "      <td>18.70000</td>\n",
              "      <td>15.20000</td>\n",
              "      <td>15.20000</td>\n",
              "      <td>15.20000</td>\n",
              "      <td>15.20000</td>\n",
              "    </tr>\n",
              "    <tr>\n",
              "      <th>B 1000(Bk - 0.63)^2</th>\n",
              "      <td>396.90000</td>\n",
              "      <td>396.90000</td>\n",
              "      <td>392.83000</td>\n",
              "      <td>394.63000</td>\n",
              "      <td>396.90000</td>\n",
              "      <td>394.12000</td>\n",
              "      <td>395.60000</td>\n",
              "      <td>396.90000</td>\n",
              "      <td>386.63000</td>\n",
              "      <td>386.71000</td>\n",
              "    </tr>\n",
              "    <tr>\n",
              "      <th>LSTAT %</th>\n",
              "      <td>4.98000</td>\n",
              "      <td>9.14000</td>\n",
              "      <td>4.03000</td>\n",
              "      <td>2.94000</td>\n",
              "      <td>5.33000</td>\n",
              "      <td>5.21000</td>\n",
              "      <td>12.43000</td>\n",
              "      <td>19.15000</td>\n",
              "      <td>29.93000</td>\n",
              "      <td>17.10000</td>\n",
              "    </tr>\n",
              "  </tbody>\n",
              "</table>\n",
              "</div>"
            ],
            "text/plain": [
              "                             0          1  ...          8          9\n",
              "CRIM                   0.00632    0.02731  ...    0.21124    0.17004\n",
              "ZN                    18.00000    0.00000  ...   12.50000   12.50000\n",
              "INDUS                  2.31000    7.07000  ...    7.87000    7.87000\n",
              "CHAS                   0.00000    0.00000  ...    0.00000    0.00000\n",
              "NOX                    0.53800    0.46900  ...    0.52400    0.52400\n",
              "RM                     6.57500    6.42100  ...    5.63100    6.00400\n",
              "AGE                   65.20000   78.90000  ...  100.00000   85.90000\n",
              "DIS                    4.09000    4.96710  ...    6.08210    6.59210\n",
              "RAD                    1.00000    2.00000  ...    5.00000    5.00000\n",
              "TAX                  296.00000  242.00000  ...  311.00000  311.00000\n",
              "PTRATIO               15.30000   17.80000  ...   15.20000   15.20000\n",
              "B 1000(Bk - 0.63)^2  396.90000  396.90000  ...  386.63000  386.71000\n",
              "LSTAT %                4.98000    9.14000  ...   29.93000   17.10000\n",
              "\n",
              "[13 rows x 10 columns]"
            ]
          },
          "metadata": {
            "tags": []
          },
          "execution_count": 3
        }
      ]
    },
    {
      "cell_type": "markdown",
      "metadata": {
        "id": "pipfy09gGAz0"
      },
      "source": [
        "##Analise Pré-eliminares\n",
        " - anlisando graficos boxplot para verificar outliers\n",
        " - analisando graficos de distribuição linear"
      ]
    },
    {
      "cell_type": "code",
      "metadata": {
        "id": "Zw1f82bGGGm8",
        "colab": {
          "base_uri": "https://localhost:8080/",
          "height": 421
        },
        "outputId": "e171f686-17d4-4932-e275-95247b998866"
      },
      "source": [
        "#criando boxplot\n",
        "#um boxplot nada mais representa do que a mediana e os quartis de uma sequancia crescente de dados\n",
        "#caso hajam outliers é importante retiralos para melhorar a performace do nosso modelo de regressao\n",
        "ax = sns.boxplot(data= df_y['MEDV'], orient='h', width=0.3)\n",
        "ax.figure.set_size_inches(20, 6)\n",
        "ax.set_title(\"valos do imoveis\")\n",
        "ax.set_xlabel(\"faixa 1k dolares\")\n",
        "ax #é possivel visualizar dados discrepantes no boxplot - outliers"
      ],
      "execution_count": 4,
      "outputs": [
        {
          "output_type": "execute_result",
          "data": {
            "text/plain": [
              "<matplotlib.axes._subplots.AxesSubplot at 0x7efdf88c8278>"
            ]
          },
          "metadata": {
            "tags": []
          },
          "execution_count": 4
        },
        {
          "output_type": "display_data",
          "data": {
            "image/png": "[encoded data removed]",
            "text/plain": [
              "<Figure size 1440x432 with 1 Axes>"
            ]
          },
          "metadata": {
            "tags": [],
            "needs_background": "light"
          }
        }
      ]
    },
    {
      "cell_type": "code",
      "metadata": {
        "id": "c3wn06diG87k",
        "colab": {
          "base_uri": "https://localhost:8080/",
          "height": 603
        },
        "outputId": "28d3ff18-f88a-4df8-9423-973b93996b46"
      },
      "source": [
        "#distribuição de frequencias\n",
        "#esse grafico no mostra uma distribuição de função gaussiana\n",
        "#caso as frequencia apresentem fora da função é importante adaptaas para melhorar a performace do nosso modelo de regressao  \n",
        "ax = sns.displot(df_y['MEDV'], height=8, aspect=2, kde=True)\n",
        "ax.set_axis_labels('Preço imoveis dolar')\n",
        "ax #é possivel analizar que algumas distribuiçoes de frequencias estao fora da função "
      ],
      "execution_count": 5,
      "outputs": [
        {
          "output_type": "execute_result",
          "data": {
            "text/plain": [
              "<seaborn.axisgrid.FacetGrid at 0x7efdf88fd4e0>"
            ]
          },
          "metadata": {
            "tags": []
          },
          "execution_count": 5
        },
        {
          "output_type": "display_data",
          "data": {
            "image/png": "[encoded data removed]",
            "text/plain": [
              "<Figure size 1152x576 with 1 Axes>"
            ]
          },
          "metadata": {
            "tags": [],
            "needs_background": "light"
          }
        }
      ]
    },
    {
      "cell_type": "markdown",
      "metadata": {
        "id": "Lx_SrD9AL8rQ"
      },
      "source": [
        "##Pré-Processamento de dados e Trasnformação"
      ]
    },
    {
      "cell_type": "code",
      "metadata": {
        "id": "EHoLuvayLF1Y",
        "colab": {
          "base_uri": "https://localhost:8080/",
          "height": 447
        },
        "outputId": "ee74d6b2-c188-4ac0-e7d3-d637867bbe50"
      },
      "source": [
        "df_x.drop(['CHAS'], axis=1) #retirando a coluna CHAS\n",
        "#trocando os valores zerados para o valor medio da coluna\n",
        "df_x['ZN'] = df_x['ZN'].replace(0,np.mean(df_x['ZN']))\n",
        "\n",
        "df_x.head(10).T"
      ],
      "execution_count": 6,
      "outputs": [
        {
          "output_type": "execute_result",
          "data": {
            "text/html": [
              "<div>\n",
              "<style scoped>\n",
              "    .dataframe tbody tr th:only-of-type {\n",
              "        vertical-align: middle;\n",
              "    }\n",
              "\n",
              "    .dataframe tbody tr th {\n",
              "        vertical-align: top;\n",
              "    }\n",
              "\n",
              "    .dataframe thead th {\n",
              "        text-align: right;\n",
              "    }\n",
              "</style>\n",
              "<table border=\"1\" class=\"dataframe\">\n",
              "  <thead>\n",
              "    <tr style=\"text-align: right;\">\n",
              "      <th></th>\n",
              "      <th>0</th>\n",
              "      <th>1</th>\n",
              "      <th>2</th>\n",
              "      <th>3</th>\n",
              "      <th>4</th>\n",
              "      <th>5</th>\n",
              "      <th>6</th>\n",
              "      <th>7</th>\n",
              "      <th>8</th>\n",
              "      <th>9</th>\n",
              "    </tr>\n",
              "  </thead>\n",
              "  <tbody>\n",
              "    <tr>\n",
              "      <th>CRIM</th>\n",
              "      <td>0.00632</td>\n",
              "      <td>0.027310</td>\n",
              "      <td>0.027290</td>\n",
              "      <td>0.032370</td>\n",
              "      <td>0.069050</td>\n",
              "      <td>0.029850</td>\n",
              "      <td>0.08829</td>\n",
              "      <td>0.14455</td>\n",
              "      <td>0.21124</td>\n",
              "      <td>0.17004</td>\n",
              "    </tr>\n",
              "    <tr>\n",
              "      <th>ZN</th>\n",
              "      <td>18.00000</td>\n",
              "      <td>11.363636</td>\n",
              "      <td>11.363636</td>\n",
              "      <td>11.363636</td>\n",
              "      <td>11.363636</td>\n",
              "      <td>11.363636</td>\n",
              "      <td>12.50000</td>\n",
              "      <td>12.50000</td>\n",
              "      <td>12.50000</td>\n",
              "      <td>12.50000</td>\n",
              "    </tr>\n",
              "    <tr>\n",
              "      <th>INDUS</th>\n",
              "      <td>2.31000</td>\n",
              "      <td>7.070000</td>\n",
              "      <td>7.070000</td>\n",
              "      <td>2.180000</td>\n",
              "      <td>2.180000</td>\n",
              "      <td>2.180000</td>\n",
              "      <td>7.87000</td>\n",
              "      <td>7.87000</td>\n",
              "      <td>7.87000</td>\n",
              "      <td>7.87000</td>\n",
              "    </tr>\n",
              "    <tr>\n",
              "      <th>CHAS</th>\n",
              "      <td>0.00000</td>\n",
              "      <td>0.000000</td>\n",
              "      <td>0.000000</td>\n",
              "      <td>0.000000</td>\n",
              "      <td>0.000000</td>\n",
              "      <td>0.000000</td>\n",
              "      <td>0.00000</td>\n",
              "      <td>0.00000</td>\n",
              "      <td>0.00000</td>\n",
              "      <td>0.00000</td>\n",
              "    </tr>\n",
              "    <tr>\n",
              "      <th>NOX</th>\n",
              "      <td>0.53800</td>\n",
              "      <td>0.469000</td>\n",
              "      <td>0.469000</td>\n",
              "      <td>0.458000</td>\n",
              "      <td>0.458000</td>\n",
              "      <td>0.458000</td>\n",
              "      <td>0.52400</td>\n",
              "      <td>0.52400</td>\n",
              "      <td>0.52400</td>\n",
              "      <td>0.52400</td>\n",
              "    </tr>\n",
              "    <tr>\n",
              "      <th>RM</th>\n",
              "      <td>6.57500</td>\n",
              "      <td>6.421000</td>\n",
              "      <td>7.185000</td>\n",
              "      <td>6.998000</td>\n",
              "      <td>7.147000</td>\n",
              "      <td>6.430000</td>\n",
              "      <td>6.01200</td>\n",
              "      <td>6.17200</td>\n",
              "      <td>5.63100</td>\n",
              "      <td>6.00400</td>\n",
              "    </tr>\n",
              "    <tr>\n",
              "      <th>AGE</th>\n",
              "      <td>65.20000</td>\n",
              "      <td>78.900000</td>\n",
              "      <td>61.100000</td>\n",
              "      <td>45.800000</td>\n",
              "      <td>54.200000</td>\n",
              "      <td>58.700000</td>\n",
              "      <td>66.60000</td>\n",
              "      <td>96.10000</td>\n",
              "      <td>100.00000</td>\n",
              "      <td>85.90000</td>\n",
              "    </tr>\n",
              "    <tr>\n",
              "      <th>DIS</th>\n",
              "      <td>4.09000</td>\n",
              "      <td>4.967100</td>\n",
              "      <td>4.967100</td>\n",
              "      <td>6.062200</td>\n",
              "      <td>6.062200</td>\n",
              "      <td>6.062200</td>\n",
              "      <td>5.56050</td>\n",
              "      <td>5.95050</td>\n",
              "      <td>6.08210</td>\n",
              "      <td>6.59210</td>\n",
              "    </tr>\n",
              "    <tr>\n",
              "      <th>RAD</th>\n",
              "      <td>1.00000</td>\n",
              "      <td>2.000000</td>\n",
              "      <td>2.000000</td>\n",
              "      <td>3.000000</td>\n",
              "      <td>3.000000</td>\n",
              "      <td>3.000000</td>\n",
              "      <td>5.00000</td>\n",
              "      <td>5.00000</td>\n",
              "      <td>5.00000</td>\n",
              "      <td>5.00000</td>\n",
              "    </tr>\n",
              "    <tr>\n",
              "      <th>TAX</th>\n",
              "      <td>296.00000</td>\n",
              "      <td>242.000000</td>\n",
              "      <td>242.000000</td>\n",
              "      <td>222.000000</td>\n",
              "      <td>222.000000</td>\n",
              "      <td>222.000000</td>\n",
              "      <td>311.00000</td>\n",
              "      <td>311.00000</td>\n",
              "      <td>311.00000</td>\n",
              "      <td>311.00000</td>\n",
              "    </tr>\n",
              "    <tr>\n",
              "      <th>PTRATIO</th>\n",
              "      <td>15.30000</td>\n",
              "      <td>17.800000</td>\n",
              "      <td>17.800000</td>\n",
              "      <td>18.700000</td>\n",
              "      <td>18.700000</td>\n",
              "      <td>18.700000</td>\n",
              "      <td>15.20000</td>\n",
              "      <td>15.20000</td>\n",
              "      <td>15.20000</td>\n",
              "      <td>15.20000</td>\n",
              "    </tr>\n",
              "    <tr>\n",
              "      <th>B 1000(Bk - 0.63)^2</th>\n",
              "      <td>396.90000</td>\n",
              "      <td>396.900000</td>\n",
              "      <td>392.830000</td>\n",
              "      <td>394.630000</td>\n",
              "      <td>396.900000</td>\n",
              "      <td>394.120000</td>\n",
              "      <td>395.60000</td>\n",
              "      <td>396.90000</td>\n",
              "      <td>386.63000</td>\n",
              "      <td>386.71000</td>\n",
              "    </tr>\n",
              "    <tr>\n",
              "      <th>LSTAT %</th>\n",
              "      <td>4.98000</td>\n",
              "      <td>9.140000</td>\n",
              "      <td>4.030000</td>\n",
              "      <td>2.940000</td>\n",
              "      <td>5.330000</td>\n",
              "      <td>5.210000</td>\n",
              "      <td>12.43000</td>\n",
              "      <td>19.15000</td>\n",
              "      <td>29.93000</td>\n",
              "      <td>17.10000</td>\n",
              "    </tr>\n",
              "  </tbody>\n",
              "</table>\n",
              "</div>"
            ],
            "text/plain": [
              "                             0           1  ...          8          9\n",
              "CRIM                   0.00632    0.027310  ...    0.21124    0.17004\n",
              "ZN                    18.00000   11.363636  ...   12.50000   12.50000\n",
              "INDUS                  2.31000    7.070000  ...    7.87000    7.87000\n",
              "CHAS                   0.00000    0.000000  ...    0.00000    0.00000\n",
              "NOX                    0.53800    0.469000  ...    0.52400    0.52400\n",
              "RM                     6.57500    6.421000  ...    5.63100    6.00400\n",
              "AGE                   65.20000   78.900000  ...  100.00000   85.90000\n",
              "DIS                    4.09000    4.967100  ...    6.08210    6.59210\n",
              "RAD                    1.00000    2.000000  ...    5.00000    5.00000\n",
              "TAX                  296.00000  242.000000  ...  311.00000  311.00000\n",
              "PTRATIO               15.30000   17.800000  ...   15.20000   15.20000\n",
              "B 1000(Bk - 0.63)^2  396.90000  396.900000  ...  386.63000  386.71000\n",
              "LSTAT %                4.98000    9.140000  ...   29.93000   17.10000\n",
              "\n",
              "[13 rows x 10 columns]"
            ]
          },
          "metadata": {
            "tags": []
          },
          "execution_count": 6
        }
      ]
    },
    {
      "cell_type": "code",
      "metadata": {
        "id": "OsdtKEyYIQOp",
        "colab": {
          "base_uri": "https://localhost:8080/",
          "height": 815
        },
        "outputId": "997bd795-a0d2-4c46-8b2c-6a625d846658"
      },
      "source": [
        "#função logaritimca \n",
        "#para resolver os problemas acima vamos aplicar uma função logaritimica em toda base\n",
        "#os colunas que possuem um 1 somado serve para não serem zeradas\n",
        "\n",
        "df_x['log_CRIM'] = np.log(df_x['CRIM'] + 1)\n",
        "df_x['log_ZN'] = np.log(df_x['ZN'])\n",
        "df_x['log_INDUS'] = np.log(df_x['INDUS'])\n",
        "df_x['log_NOX'] = np.log(df_x['NOX'] + 1)\n",
        "df_x['log_RM'] = np.log(df_x['RM'])\n",
        "df_x['log_AGE'] = np.log(df_x['AGE'])\n",
        "df_x['log_DIS'] = np.log(df_x['DIS'])\n",
        "df_x['log_RAD'] = np.log(df_x['RAD'] + 1)\n",
        "df_x['log_TAX'] = np.log(df_x['TAX'])\n",
        "df_x['log_PTRATIO'] = np.log(df_x['PTRATIO'])\n",
        "df_x['log_B 1000(Bk - 0.63)^2'] = np.log(df_x['B 1000(Bk - 0.63)^2'])\n",
        "df_x['log_LSTAT %'] = np.log(df_x['LSTAT %'])\n",
        "\n",
        "df_y['log_MEDV'] = np.log(df_y['MEDV'])\n",
        "\n",
        "df_x.head().T"
      ],
      "execution_count": 7,
      "outputs": [
        {
          "output_type": "execute_result",
          "data": {
            "text/html": [
              "<div>\n",
              "<style scoped>\n",
              "    .dataframe tbody tr th:only-of-type {\n",
              "        vertical-align: middle;\n",
              "    }\n",
              "\n",
              "    .dataframe tbody tr th {\n",
              "        vertical-align: top;\n",
              "    }\n",
              "\n",
              "    .dataframe thead th {\n",
              "        text-align: right;\n",
              "    }\n",
              "</style>\n",
              "<table border=\"1\" class=\"dataframe\">\n",
              "  <thead>\n",
              "    <tr style=\"text-align: right;\">\n",
              "      <th></th>\n",
              "      <th>0</th>\n",
              "      <th>1</th>\n",
              "      <th>2</th>\n",
              "      <th>3</th>\n",
              "      <th>4</th>\n",
              "    </tr>\n",
              "  </thead>\n",
              "  <tbody>\n",
              "    <tr>\n",
              "      <th>CRIM</th>\n",
              "      <td>0.006320</td>\n",
              "      <td>0.027310</td>\n",
              "      <td>0.027290</td>\n",
              "      <td>0.032370</td>\n",
              "      <td>0.069050</td>\n",
              "    </tr>\n",
              "    <tr>\n",
              "      <th>ZN</th>\n",
              "      <td>18.000000</td>\n",
              "      <td>11.363636</td>\n",
              "      <td>11.363636</td>\n",
              "      <td>11.363636</td>\n",
              "      <td>11.363636</td>\n",
              "    </tr>\n",
              "    <tr>\n",
              "      <th>INDUS</th>\n",
              "      <td>2.310000</td>\n",
              "      <td>7.070000</td>\n",
              "      <td>7.070000</td>\n",
              "      <td>2.180000</td>\n",
              "      <td>2.180000</td>\n",
              "    </tr>\n",
              "    <tr>\n",
              "      <th>CHAS</th>\n",
              "      <td>0.000000</td>\n",
              "      <td>0.000000</td>\n",
              "      <td>0.000000</td>\n",
              "      <td>0.000000</td>\n",
              "      <td>0.000000</td>\n",
              "    </tr>\n",
              "    <tr>\n",
              "      <th>NOX</th>\n",
              "      <td>0.538000</td>\n",
              "      <td>0.469000</td>\n",
              "      <td>0.469000</td>\n",
              "      <td>0.458000</td>\n",
              "      <td>0.458000</td>\n",
              "    </tr>\n",
              "    <tr>\n",
              "      <th>RM</th>\n",
              "      <td>6.575000</td>\n",
              "      <td>6.421000</td>\n",
              "      <td>7.185000</td>\n",
              "      <td>6.998000</td>\n",
              "      <td>7.147000</td>\n",
              "    </tr>\n",
              "    <tr>\n",
              "      <th>AGE</th>\n",
              "      <td>65.200000</td>\n",
              "      <td>78.900000</td>\n",
              "      <td>61.100000</td>\n",
              "      <td>45.800000</td>\n",
              "      <td>54.200000</td>\n",
              "    </tr>\n",
              "    <tr>\n",
              "      <th>DIS</th>\n",
              "      <td>4.090000</td>\n",
              "      <td>4.967100</td>\n",
              "      <td>4.967100</td>\n",
              "      <td>6.062200</td>\n",
              "      <td>6.062200</td>\n",
              "    </tr>\n",
              "    <tr>\n",
              "      <th>RAD</th>\n",
              "      <td>1.000000</td>\n",
              "      <td>2.000000</td>\n",
              "      <td>2.000000</td>\n",
              "      <td>3.000000</td>\n",
              "      <td>3.000000</td>\n",
              "    </tr>\n",
              "    <tr>\n",
              "      <th>TAX</th>\n",
              "      <td>296.000000</td>\n",
              "      <td>242.000000</td>\n",
              "      <td>242.000000</td>\n",
              "      <td>222.000000</td>\n",
              "      <td>222.000000</td>\n",
              "    </tr>\n",
              "    <tr>\n",
              "      <th>PTRATIO</th>\n",
              "      <td>15.300000</td>\n",
              "      <td>17.800000</td>\n",
              "      <td>17.800000</td>\n",
              "      <td>18.700000</td>\n",
              "      <td>18.700000</td>\n",
              "    </tr>\n",
              "    <tr>\n",
              "      <th>B 1000(Bk - 0.63)^2</th>\n",
              "      <td>396.900000</td>\n",
              "      <td>396.900000</td>\n",
              "      <td>392.830000</td>\n",
              "      <td>394.630000</td>\n",
              "      <td>396.900000</td>\n",
              "    </tr>\n",
              "    <tr>\n",
              "      <th>LSTAT %</th>\n",
              "      <td>4.980000</td>\n",
              "      <td>9.140000</td>\n",
              "      <td>4.030000</td>\n",
              "      <td>2.940000</td>\n",
              "      <td>5.330000</td>\n",
              "    </tr>\n",
              "    <tr>\n",
              "      <th>log_CRIM</th>\n",
              "      <td>0.006300</td>\n",
              "      <td>0.026944</td>\n",
              "      <td>0.026924</td>\n",
              "      <td>0.031857</td>\n",
              "      <td>0.066770</td>\n",
              "    </tr>\n",
              "    <tr>\n",
              "      <th>log_ZN</th>\n",
              "      <td>2.890372</td>\n",
              "      <td>2.430418</td>\n",
              "      <td>2.430418</td>\n",
              "      <td>2.430418</td>\n",
              "      <td>2.430418</td>\n",
              "    </tr>\n",
              "    <tr>\n",
              "      <th>log_INDUS</th>\n",
              "      <td>0.837248</td>\n",
              "      <td>1.955860</td>\n",
              "      <td>1.955860</td>\n",
              "      <td>0.779325</td>\n",
              "      <td>0.779325</td>\n",
              "    </tr>\n",
              "    <tr>\n",
              "      <th>log_NOX</th>\n",
              "      <td>0.430483</td>\n",
              "      <td>0.384582</td>\n",
              "      <td>0.384582</td>\n",
              "      <td>0.377066</td>\n",
              "      <td>0.377066</td>\n",
              "    </tr>\n",
              "    <tr>\n",
              "      <th>log_RM</th>\n",
              "      <td>1.883275</td>\n",
              "      <td>1.859574</td>\n",
              "      <td>1.971996</td>\n",
              "      <td>1.945624</td>\n",
              "      <td>1.966693</td>\n",
              "    </tr>\n",
              "    <tr>\n",
              "      <th>log_AGE</th>\n",
              "      <td>4.177459</td>\n",
              "      <td>4.368181</td>\n",
              "      <td>4.112512</td>\n",
              "      <td>3.824284</td>\n",
              "      <td>3.992681</td>\n",
              "    </tr>\n",
              "    <tr>\n",
              "      <th>log_DIS</th>\n",
              "      <td>1.408545</td>\n",
              "      <td>1.602836</td>\n",
              "      <td>1.602836</td>\n",
              "      <td>1.802073</td>\n",
              "      <td>1.802073</td>\n",
              "    </tr>\n",
              "    <tr>\n",
              "      <th>log_RAD</th>\n",
              "      <td>0.693147</td>\n",
              "      <td>1.098612</td>\n",
              "      <td>1.098612</td>\n",
              "      <td>1.386294</td>\n",
              "      <td>1.386294</td>\n",
              "    </tr>\n",
              "    <tr>\n",
              "      <th>log_TAX</th>\n",
              "      <td>5.690359</td>\n",
              "      <td>5.488938</td>\n",
              "      <td>5.488938</td>\n",
              "      <td>5.402677</td>\n",
              "      <td>5.402677</td>\n",
              "    </tr>\n",
              "    <tr>\n",
              "      <th>log_PTRATIO</th>\n",
              "      <td>2.727853</td>\n",
              "      <td>2.879198</td>\n",
              "      <td>2.879198</td>\n",
              "      <td>2.928524</td>\n",
              "      <td>2.928524</td>\n",
              "    </tr>\n",
              "    <tr>\n",
              "      <th>log_B 1000(Bk - 0.63)^2</th>\n",
              "      <td>5.983684</td>\n",
              "      <td>5.983684</td>\n",
              "      <td>5.973377</td>\n",
              "      <td>5.977949</td>\n",
              "      <td>5.983684</td>\n",
              "    </tr>\n",
              "    <tr>\n",
              "      <th>log_LSTAT %</th>\n",
              "      <td>1.605430</td>\n",
              "      <td>2.212660</td>\n",
              "      <td>1.393766</td>\n",
              "      <td>1.078410</td>\n",
              "      <td>1.673351</td>\n",
              "    </tr>\n",
              "  </tbody>\n",
              "</table>\n",
              "</div>"
            ],
            "text/plain": [
              "                                  0           1  ...           3           4\n",
              "CRIM                       0.006320    0.027310  ...    0.032370    0.069050\n",
              "ZN                        18.000000   11.363636  ...   11.363636   11.363636\n",
              "INDUS                      2.310000    7.070000  ...    2.180000    2.180000\n",
              "CHAS                       0.000000    0.000000  ...    0.000000    0.000000\n",
              "NOX                        0.538000    0.469000  ...    0.458000    0.458000\n",
              "RM                         6.575000    6.421000  ...    6.998000    7.147000\n",
              "AGE                       65.200000   78.900000  ...   45.800000   54.200000\n",
              "DIS                        4.090000    4.967100  ...    6.062200    6.062200\n",
              "RAD                        1.000000    2.000000  ...    3.000000    3.000000\n",
              "TAX                      296.000000  242.000000  ...  222.000000  222.000000\n",
              "PTRATIO                   15.300000   17.800000  ...   18.700000   18.700000\n",
              "B 1000(Bk - 0.63)^2      396.900000  396.900000  ...  394.630000  396.900000\n",
              "LSTAT %                    4.980000    9.140000  ...    2.940000    5.330000\n",
              "log_CRIM                   0.006300    0.026944  ...    0.031857    0.066770\n",
              "log_ZN                     2.890372    2.430418  ...    2.430418    2.430418\n",
              "log_INDUS                  0.837248    1.955860  ...    0.779325    0.779325\n",
              "log_NOX                    0.430483    0.384582  ...    0.377066    0.377066\n",
              "log_RM                     1.883275    1.859574  ...    1.945624    1.966693\n",
              "log_AGE                    4.177459    4.368181  ...    3.824284    3.992681\n",
              "log_DIS                    1.408545    1.602836  ...    1.802073    1.802073\n",
              "log_RAD                    0.693147    1.098612  ...    1.386294    1.386294\n",
              "log_TAX                    5.690359    5.488938  ...    5.402677    5.402677\n",
              "log_PTRATIO                2.727853    2.879198  ...    2.928524    2.928524\n",
              "log_B 1000(Bk - 0.63)^2    5.983684    5.983684  ...    5.977949    5.983684\n",
              "log_LSTAT %                1.605430    2.212660  ...    1.078410    1.673351\n",
              "\n",
              "[25 rows x 5 columns]"
            ]
          },
          "metadata": {
            "tags": []
          },
          "execution_count": 7
        }
      ]
    },
    {
      "cell_type": "code",
      "metadata": {
        "id": "TDA_Zt6wOqUc",
        "colab": {
          "base_uri": "https://localhost:8080/",
          "height": 601
        },
        "outputId": "bf59d39c-d361-44ad-d488-24ab71d923c9"
      },
      "source": [
        "#verificando a nova distribuição de frequancias\n",
        "ax = sns.displot(df_y['log_MEDV'], height=8, aspect=2, kde=True)\n",
        "ax.set_axis_labels('log do Preço das casa dolar')\n",
        "ax"
      ],
      "execution_count": 8,
      "outputs": [
        {
          "output_type": "execute_result",
          "data": {
            "text/plain": [
              "<seaborn.axisgrid.FacetGrid at 0x7efdef8d4e80>"
            ]
          },
          "metadata": {
            "tags": []
          },
          "execution_count": 8
        },
        {
          "output_type": "display_data",
          "data": {
            "image/png": "[encoded data removed]",
            "text/plain": [
              "<Figure size 1152x576 with 1 Axes>"
            ]
          },
          "metadata": {
            "tags": [],
            "needs_background": "light"
          }
        }
      ]
    },
    {
      "cell_type": "markdown",
      "metadata": {
        "id": "gMoccORmPRbA"
      },
      "source": [
        "##Criando e Treinando o modelo"
      ]
    },
    {
      "cell_type": "code",
      "metadata": {
        "id": "AHlO8Um9PETE",
        "colab": {
          "base_uri": "https://localhost:8080/",
          "height": 417
        },
        "outputId": "da0e6aa3-91bc-457e-8770-b7fcfa22c098"
      },
      "source": [
        "#separando os dados\n",
        "x = df_x[['log_CRIM', 'log_ZN', 'log_INDUS', \n",
        "          'log_NOX', 'log_RM','log_AGE',\n",
        "          'log_DIS', 'log_RAD', 'log_TAX',\n",
        "          'log_PTRATIO', 'log_B 1000(Bk - 0.63)^2', 'log_LSTAT %']]\n",
        "y = df_y['log_MEDV']\n",
        "\n",
        "x.tail().T"
      ],
      "execution_count": 9,
      "outputs": [
        {
          "output_type": "execute_result",
          "data": {
            "text/html": [
              "<div>\n",
              "<style scoped>\n",
              "    .dataframe tbody tr th:only-of-type {\n",
              "        vertical-align: middle;\n",
              "    }\n",
              "\n",
              "    .dataframe tbody tr th {\n",
              "        vertical-align: top;\n",
              "    }\n",
              "\n",
              "    .dataframe thead th {\n",
              "        text-align: right;\n",
              "    }\n",
              "</style>\n",
              "<table border=\"1\" class=\"dataframe\">\n",
              "  <thead>\n",
              "    <tr style=\"text-align: right;\">\n",
              "      <th></th>\n",
              "      <th>501</th>\n",
              "      <th>502</th>\n",
              "      <th>503</th>\n",
              "      <th>504</th>\n",
              "      <th>505</th>\n",
              "    </tr>\n",
              "  </thead>\n",
              "  <tbody>\n",
              "    <tr>\n",
              "      <th>log_CRIM</th>\n",
              "      <td>0.060747</td>\n",
              "      <td>0.044275</td>\n",
              "      <td>0.058986</td>\n",
              "      <td>0.103991</td>\n",
              "      <td>0.046320</td>\n",
              "    </tr>\n",
              "    <tr>\n",
              "      <th>log_ZN</th>\n",
              "      <td>2.430418</td>\n",
              "      <td>2.430418</td>\n",
              "      <td>2.430418</td>\n",
              "      <td>2.430418</td>\n",
              "      <td>2.430418</td>\n",
              "    </tr>\n",
              "    <tr>\n",
              "      <th>log_INDUS</th>\n",
              "      <td>2.479056</td>\n",
              "      <td>2.479056</td>\n",
              "      <td>2.479056</td>\n",
              "      <td>2.479056</td>\n",
              "      <td>2.479056</td>\n",
              "    </tr>\n",
              "    <tr>\n",
              "      <th>log_NOX</th>\n",
              "      <td>0.452985</td>\n",
              "      <td>0.452985</td>\n",
              "      <td>0.452985</td>\n",
              "      <td>0.452985</td>\n",
              "      <td>0.452985</td>\n",
              "    </tr>\n",
              "    <tr>\n",
              "      <th>log_RM</th>\n",
              "      <td>1.886008</td>\n",
              "      <td>1.811562</td>\n",
              "      <td>1.942476</td>\n",
              "      <td>1.916040</td>\n",
              "      <td>1.796747</td>\n",
              "    </tr>\n",
              "    <tr>\n",
              "      <th>log_AGE</th>\n",
              "      <td>4.235555</td>\n",
              "      <td>4.339902</td>\n",
              "      <td>4.510860</td>\n",
              "      <td>4.492001</td>\n",
              "      <td>4.391977</td>\n",
              "    </tr>\n",
              "    <tr>\n",
              "      <th>log_DIS</th>\n",
              "      <td>0.907694</td>\n",
              "      <td>0.827460</td>\n",
              "      <td>0.773574</td>\n",
              "      <td>0.870833</td>\n",
              "      <td>0.918289</td>\n",
              "    </tr>\n",
              "    <tr>\n",
              "      <th>log_RAD</th>\n",
              "      <td>0.693147</td>\n",
              "      <td>0.693147</td>\n",
              "      <td>0.693147</td>\n",
              "      <td>0.693147</td>\n",
              "      <td>0.693147</td>\n",
              "    </tr>\n",
              "    <tr>\n",
              "      <th>log_TAX</th>\n",
              "      <td>5.609472</td>\n",
              "      <td>5.609472</td>\n",
              "      <td>5.609472</td>\n",
              "      <td>5.609472</td>\n",
              "      <td>5.609472</td>\n",
              "    </tr>\n",
              "    <tr>\n",
              "      <th>log_PTRATIO</th>\n",
              "      <td>3.044522</td>\n",
              "      <td>3.044522</td>\n",
              "      <td>3.044522</td>\n",
              "      <td>3.044522</td>\n",
              "      <td>3.044522</td>\n",
              "    </tr>\n",
              "    <tr>\n",
              "      <th>log_B 1000(Bk - 0.63)^2</th>\n",
              "      <td>5.971236</td>\n",
              "      <td>5.983684</td>\n",
              "      <td>5.983684</td>\n",
              "      <td>5.974954</td>\n",
              "      <td>5.983684</td>\n",
              "    </tr>\n",
              "    <tr>\n",
              "      <th>log_LSTAT %</th>\n",
              "      <td>2.269028</td>\n",
              "      <td>2.206074</td>\n",
              "      <td>1.729884</td>\n",
              "      <td>1.868721</td>\n",
              "      <td>2.064328</td>\n",
              "    </tr>\n",
              "  </tbody>\n",
              "</table>\n",
              "</div>"
            ],
            "text/plain": [
              "                              501       502       503       504       505\n",
              "log_CRIM                 0.060747  0.044275  0.058986  0.103991  0.046320\n",
              "log_ZN                   2.430418  2.430418  2.430418  2.430418  2.430418\n",
              "log_INDUS                2.479056  2.479056  2.479056  2.479056  2.479056\n",
              "log_NOX                  0.452985  0.452985  0.452985  0.452985  0.452985\n",
              "log_RM                   1.886008  1.811562  1.942476  1.916040  1.796747\n",
              "log_AGE                  4.235555  4.339902  4.510860  4.492001  4.391977\n",
              "log_DIS                  0.907694  0.827460  0.773574  0.870833  0.918289\n",
              "log_RAD                  0.693147  0.693147  0.693147  0.693147  0.693147\n",
              "log_TAX                  5.609472  5.609472  5.609472  5.609472  5.609472\n",
              "log_PTRATIO              3.044522  3.044522  3.044522  3.044522  3.044522\n",
              "log_B 1000(Bk - 0.63)^2  5.971236  5.983684  5.983684  5.974954  5.983684\n",
              "log_LSTAT %              2.269028  2.206074  1.729884  1.868721  2.064328"
            ]
          },
          "metadata": {
            "tags": []
          },
          "execution_count": 9
        }
      ]
    },
    {
      "cell_type": "code",
      "metadata": {
        "id": "yfCeVEz0Qy_n",
        "colab": {
          "base_uri": "https://localhost:8080/"
        },
        "outputId": "fa7026cf-2b9c-4562-d635-36f39bc9cee7"
      },
      "source": [
        "#separando dados de treino e teste\n",
        "x_treino, x_teste, y_treino, y_teste = train_test_split(x, y, test_size=0.25, random_state=2811)\n",
        "\n",
        "print(\"foi separados %d dados para treino e %d dados para teste\" % (len(x_treino), len(x_teste)))"
      ],
      "execution_count": 10,
      "outputs": [
        {
          "output_type": "stream",
          "text": [
            "foi separados 379 dados para treino e 127 dados para teste\n"
          ],
          "name": "stdout"
        }
      ]
    },
    {
      "cell_type": "code",
      "metadata": {
        "id": "0E_ImuGBRgBe",
        "colab": {
          "base_uri": "https://localhost:8080/"
        },
        "outputId": "d94146d7-1e51-41e3-9cf7-77d30c808967"
      },
      "source": [
        "#criando e treinando modelo \n",
        "modelo = LinearRegression()\n",
        "\n",
        "modelo.fit(x_treino, y_treino)\n",
        "\n",
        "previsao = modelo.predict(x_teste)\n",
        "\n",
        "#calculando o MSE \n",
        "mse = np.mean((previsao - y_teste)**2) \n",
        "\n",
        "print(\"Erro quadratico Médio: %.3f \" % mse)"
      ],
      "execution_count": 11,
      "outputs": [
        {
          "output_type": "stream",
          "text": [
            "Erro quadratico Médio: 0.035 \n"
          ],
          "name": "stdout"
        }
      ]
    },
    {
      "cell_type": "code",
      "metadata": {
        "id": "XCtP6PgaSQsm",
        "colab": {
          "base_uri": "https://localhost:8080/",
          "height": 417
        },
        "outputId": "12e89f4a-1cbd-4a45-e9ed-3cf4a28cd97a"
      },
      "source": [
        "#coeficiente de relações\n",
        "coef = pd.DataFrame(x_treino.columns)\n",
        "coef['Coeficientes'] = pd.Series(modelo.coef_)\n",
        "\n",
        "coef #pode-se percerber que os parametros que mais influenciam são RM, RAD e AGE"
      ],
      "execution_count": 12,
      "outputs": [
        {
          "output_type": "execute_result",
          "data": {
            "text/html": [
              "<div>\n",
              "<style scoped>\n",
              "    .dataframe tbody tr th:only-of-type {\n",
              "        vertical-align: middle;\n",
              "    }\n",
              "\n",
              "    .dataframe tbody tr th {\n",
              "        vertical-align: top;\n",
              "    }\n",
              "\n",
              "    .dataframe thead th {\n",
              "        text-align: right;\n",
              "    }\n",
              "</style>\n",
              "<table border=\"1\" class=\"dataframe\">\n",
              "  <thead>\n",
              "    <tr style=\"text-align: right;\">\n",
              "      <th></th>\n",
              "      <th>0</th>\n",
              "      <th>Coeficientes</th>\n",
              "    </tr>\n",
              "  </thead>\n",
              "  <tbody>\n",
              "    <tr>\n",
              "      <th>0</th>\n",
              "      <td>log_CRIM</td>\n",
              "      <td>-0.193209</td>\n",
              "    </tr>\n",
              "    <tr>\n",
              "      <th>1</th>\n",
              "      <td>log_ZN</td>\n",
              "      <td>-0.033500</td>\n",
              "    </tr>\n",
              "    <tr>\n",
              "      <th>2</th>\n",
              "      <td>log_INDUS</td>\n",
              "      <td>-0.024344</td>\n",
              "    </tr>\n",
              "    <tr>\n",
              "      <th>3</th>\n",
              "      <td>log_NOX</td>\n",
              "      <td>-0.691190</td>\n",
              "    </tr>\n",
              "    <tr>\n",
              "      <th>4</th>\n",
              "      <td>log_RM</td>\n",
              "      <td>0.409765</td>\n",
              "    </tr>\n",
              "    <tr>\n",
              "      <th>5</th>\n",
              "      <td>log_AGE</td>\n",
              "      <td>0.039482</td>\n",
              "    </tr>\n",
              "    <tr>\n",
              "      <th>6</th>\n",
              "      <td>log_DIS</td>\n",
              "      <td>-0.185774</td>\n",
              "    </tr>\n",
              "    <tr>\n",
              "      <th>7</th>\n",
              "      <td>log_RAD</td>\n",
              "      <td>0.220720</td>\n",
              "    </tr>\n",
              "    <tr>\n",
              "      <th>8</th>\n",
              "      <td>log_TAX</td>\n",
              "      <td>-0.145490</td>\n",
              "    </tr>\n",
              "    <tr>\n",
              "      <th>9</th>\n",
              "      <td>log_PTRATIO</td>\n",
              "      <td>-0.596601</td>\n",
              "    </tr>\n",
              "    <tr>\n",
              "      <th>10</th>\n",
              "      <td>log_B 1000(Bk - 0.63)^2</td>\n",
              "      <td>0.030184</td>\n",
              "    </tr>\n",
              "    <tr>\n",
              "      <th>11</th>\n",
              "      <td>log_LSTAT %</td>\n",
              "      <td>-0.407299</td>\n",
              "    </tr>\n",
              "  </tbody>\n",
              "</table>\n",
              "</div>"
            ],
            "text/plain": [
              "                          0  Coeficientes\n",
              "0                  log_CRIM     -0.193209\n",
              "1                    log_ZN     -0.033500\n",
              "2                 log_INDUS     -0.024344\n",
              "3                   log_NOX     -0.691190\n",
              "4                    log_RM      0.409765\n",
              "5                   log_AGE      0.039482\n",
              "6                   log_DIS     -0.185774\n",
              "7                   log_RAD      0.220720\n",
              "8                   log_TAX     -0.145490\n",
              "9               log_PTRATIO     -0.596601\n",
              "10  log_B 1000(Bk - 0.63)^2      0.030184\n",
              "11              log_LSTAT %     -0.407299"
            ]
          },
          "metadata": {
            "tags": []
          },
          "execution_count": 12
        }
      ]
    },
    {
      "cell_type": "code",
      "metadata": {
        "id": "gNeDtonzSepQ",
        "colab": {
          "base_uri": "https://localhost:8080/"
        },
        "outputId": "773d2a1b-e761-4f04-8a88-689dd6b2d0bf"
      },
      "source": [
        "#calculando r-squared\n",
        "#vamos perceber que comparado ao exercicio 4 este modelo consege ter uma estimativa muito superior\n",
        "print(\"percentual de r-squared: %.3f\"  %(modelo.score(x_teste, y_teste)*100))"
      ],
      "execution_count": 13,
      "outputs": [
        {
          "output_type": "stream",
          "text": [
            "percentual de r-squared: 81.682\n"
          ],
          "name": "stdout"
        }
      ]
    },
    {
      "cell_type": "markdown",
      "metadata": {
        "id": "jNXX95gaTB9L"
      },
      "source": [
        "##Gerando visualização da Reta de Regressão"
      ]
    },
    {
      "cell_type": "code",
      "metadata": {
        "id": "Z6aql5BkTBdu"
      },
      "source": [
        "y_previsto = modelo.predict(x_treino)"
      ],
      "execution_count": 14,
      "outputs": []
    },
    {
      "cell_type": "code",
      "metadata": {
        "id": "T70IHjrrTdUN",
        "colab": {
          "base_uri": "https://localhost:8080/",
          "height": 429
        },
        "outputId": "d72df808-8907-48d1-e33b-d82ac28e3ad4"
      },
      "source": [
        "#criando um scaterplot para visualizarmos a regressao dos dados previstos\n",
        "ax = sns.scatterplot(x=y_previsto, y=y_treino)\n",
        "ax.figure.set_size_inches(12, 6)\n",
        "ax.set_title('Previsão X Real', fontsize=18)\n",
        "ax.set_xlabel('log do Preço - Previsão', fontsize=14)\n",
        "ax.set_ylabel('log do Preço - dolar', fontsize=14)\n",
        "ax"
      ],
      "execution_count": 15,
      "outputs": [
        {
          "output_type": "execute_result",
          "data": {
            "text/plain": [
              "<matplotlib.axes._subplots.AxesSubplot at 0x7efdef7ee9e8>"
            ]
          },
          "metadata": {
            "tags": []
          },
          "execution_count": 15
        },
        {
          "output_type": "display_data",
          "data": {
            "image/png": "[encoded data removed]",
            "text/plain": [
              "<Figure size 864x432 with 1 Axes>"
            ]
          },
          "metadata": {
            "tags": [],
            "needs_background": "light"
          }
        }
      ]
    },
    {
      "cell_type": "markdown",
      "metadata": {
        "id": "lwnTby-STw7P"
      },
      "source": [
        "##Simulação Simples"
      ]
    },
    {
      "cell_type": "code",
      "metadata": {
        "id": "kwvm_pGITwUH",
        "colab": {
          "base_uri": "https://localhost:8080/"
        },
        "outputId": "1b37b80f-3197-40ac-edd9-3070bec8b68c"
      },
      "source": [
        "CRIM  = 0.058986\t\n",
        "ZN  = 18\n",
        "INDUS =  7.07       \n",
        "NOX = 0.452985\n",
        "RM = 4.86007\n",
        "AGE = 61\n",
        "DIS = 6\n",
        "RAD = 4\n",
        "TAX = 240      \n",
        "PTRATIO = 17.5\n",
        "B = 390\n",
        "LSTAT = 2.94\n",
        "\n",
        "entradas = [[np.log(CRIM+1), np.log(ZN), np.log(INDUS),\n",
        "             np.log(NOX+1), np.log(RM), np.log(AGE),\n",
        "             np.log(DIS), np.log(RAD+1), np.log(TAX),\n",
        "             np.log(PTRATIO), np.log(B), np.log(LSTAT)]]\n",
        "\n",
        "print('Faixa em k dolare: %.3f' %(np.exp(modelo.predict(entradas)[0])) + \" $\")"
      ],
      "execution_count": 16,
      "outputs": [
        {
          "output_type": "stream",
          "text": [
            "Faixa em k dolare: 34.211 $\n"
          ],
          "name": "stdout"
        }
      ]
    }
  ]
}