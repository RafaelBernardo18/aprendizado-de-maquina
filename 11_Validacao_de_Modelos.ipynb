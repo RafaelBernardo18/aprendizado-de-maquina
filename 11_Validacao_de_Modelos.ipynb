{
  "nbformat": 4,
  "nbformat_minor": 0,
  "metadata": {
    "colab": {
      "name": "11 - Validacao_de_Modelos.ipynb",
      "provenance": []
    },
    "kernelspec": {
      "name": "python3",
      "display_name": "Python 3"
    }
  },
  "cells": [
    {
      "cell_type": "markdown",
      "metadata": {
        "id": "4Gxo3VY1NtXk"
      },
      "source": [
        "##importando Bibliotecas"
      ]
    },
    {
      "cell_type": "code",
      "metadata": {
        "id": "3WVqaWE5Nlgu"
      },
      "source": [
        "from sklearn.tree import DecisionTreeClassifier  #classificador de arvore de decisao\r\n",
        "from sklearn.model_selection import train_test_split\r\n",
        "from sklearn.metrics import accuracy_score\r\n",
        "from sklearn.datasets import load_wine   #base de vinhos\r\n",
        "import pandas as pd\r\n",
        "import numpy as np"
      ],
      "execution_count": 1,
      "outputs": []
    },
    {
      "cell_type": "markdown",
      "metadata": {
        "id": "tXsC2xb2Qwp6"
      },
      "source": [
        "##Carregando Base"
      ]
    },
    {
      "cell_type": "code",
      "metadata": {
        "id": "ohsmXGruQKTE"
      },
      "source": [
        "base = load_wine()"
      ],
      "execution_count": 2,
      "outputs": []
    },
    {
      "cell_type": "code",
      "metadata": {
        "id": "0pNOCbEGQ935"
      },
      "source": [
        "#criando variaveis de dados e respostas na base\r\n",
        "x = base['data'] \r\n",
        "y = base['target']"
      ],
      "execution_count": 3,
      "outputs": []
    },
    {
      "cell_type": "code",
      "metadata": {
        "colab": {
          "base_uri": "https://localhost:8080/"
        },
        "id": "z2zE-GawRCIh",
        "outputId": "32e6cade-b56f-4146-96d7-0d400adcb2ae"
      },
      "source": [
        "x.shape #verificando dimenssoes do array"
      ],
      "execution_count": 4,
      "outputs": [
        {
          "output_type": "execute_result",
          "data": {
            "text/plain": [
              "(178, 13)"
            ]
          },
          "metadata": {
            "tags": []
          },
          "execution_count": 4
        }
      ]
    },
    {
      "cell_type": "markdown",
      "metadata": {
        "id": "68kfeXPVRSeu"
      },
      "source": [
        "##Separando dados de Treino e teste"
      ]
    },
    {
      "cell_type": "code",
      "metadata": {
        "colab": {
          "base_uri": "https://localhost:8080/"
        },
        "id": "uHWQmpnuRXA3",
        "outputId": "b1ae8802-97ba-42b2-8041-27f41c5098e0"
      },
      "source": [
        "#funcao randomica para trazer resultados diferentes \r\n",
        "SEED = 158080 #para este execicio de validacao vamos escolher um valor muito alto\r\n",
        "np.random.seed(SEED)\r\n",
        "\r\n",
        "x_treino, x_teste, y_treino, y_teste = train_test_split(x, y, test_size=0.25, stratify=y)\r\n",
        "\r\n",
        "print('dados separados para treino: ', len(x_treino))\r\n",
        "print('dados separados para teste: ', len(x_teste))"
      ],
      "execution_count": 5,
      "outputs": [
        {
          "output_type": "stream",
          "text": [
            "dados separados para treino:  133\n",
            "dados separados para teste:  45\n"
          ],
          "name": "stdout"
        }
      ]
    },
    {
      "cell_type": "markdown",
      "metadata": {
        "id": "AEcnrRBHSWNP"
      },
      "source": [
        "##Criando e trienando o modelo"
      ]
    },
    {
      "cell_type": "code",
      "metadata": {
        "colab": {
          "base_uri": "https://localhost:8080/"
        },
        "id": "DN8AXmB6SPRB",
        "outputId": "23ed1099-8e5b-4ce0-ac92-3207243e49ee"
      },
      "source": [
        "modelo = DecisionTreeClassifier()\r\n",
        "modelo.fit(x_treino, y_treino)\r\n",
        "\r\n",
        "previsoes = modelo.predict(x_teste)\r\n",
        "\r\n",
        "acuracia = (accuracy_score(y_teste, previsoes) * 100)\r\n",
        "\r\n",
        "print('O modelo teve o percenteual de acertos de: %.2f' %acuracia, '%')\r\n",
        "#ate aqui não vemos nada de novo pegamos uma base de dados, separamos os dados, treinamos e verificamos o percentual de acertos\r\n",
        "#mas o questionamento central que devemos faze é ... Esse modelo já esta pronto apos verificarmos o seu primeiro percentual ?"
      ],
      "execution_count": 6,
      "outputs": [
        {
          "output_type": "stream",
          "text": [
            "O modelo teve o percenteual de acertos de: 88.89 %\n"
          ],
          "name": "stdout"
        }
      ]
    },
    {
      "cell_type": "markdown",
      "metadata": {
        "id": "HM10D5DqTWBk"
      },
      "source": [
        "##Validacao do modelo\r\n",
        " - Validacao cruzada \r\n",
        " - Validacao por grupos"
      ]
    },
    {
      "cell_type": "code",
      "metadata": {
        "id": "5v-VOa1CutCe"
      },
      "source": [
        "#criando uma funccao para imprimir os resutados que vamos analisar\r\n",
        "def imprimir_percentuais(resultados):\r\n",
        "    media = resultados.mean()\r\n",
        "    print(\"Percentual medio de acertos %.2f\" % (media*100), \"%\")"
      ],
      "execution_count": 7,
      "outputs": []
    },
    {
      "cell_type": "code",
      "metadata": {
        "colab": {
          "base_uri": "https://localhost:8080/"
        },
        "id": "zvVlNoDFS4Wz",
        "outputId": "0eac4331-f543-410e-f542-6aacaaa478f2"
      },
      "source": [
        "#a validacao que usamos é conhecida por validacao cruzada\r\n",
        "#apos treinar um modelo é necessario fazer esse tipo de validacao para verificar se o modelo não esta viciado\r\n",
        "#na separacao de dados de treino e teste pode ocorrer do modelo treinar com dados muito semelhantes\r\n",
        "#quando aplicamos uma validacao cruzado nosso modelo sera testado em varias etapas treinando e testando ao longo da base\r\n",
        "from sklearn.model_selection import cross_val_score\r\n",
        "\r\n",
        "resultado = cross_val_score(modelo, x, y, cv=3, scoring='accuracy')\r\n",
        "\r\n",
        "imprimir_percentuais(resultado)"
      ],
      "execution_count": 8,
      "outputs": [
        {
          "output_type": "stream",
          "text": [
            "Percentual medio de acertos 87.09 %\n"
          ],
          "name": "stdout"
        }
      ]
    },
    {
      "cell_type": "code",
      "metadata": {
        "colab": {
          "base_uri": "https://localhost:8080/"
        },
        "id": "ub5B7gX-adnX",
        "outputId": "e90d9d2c-6e7a-454b-9d1a-33368612518a"
      },
      "source": [
        "#a validacao cruzada em si ja é uma forma separar a base e um gropo mas tambem ha outros metodos para se faze isso\r\n",
        "#com o KFold podemos separar a base em diversos grupos para apos realizarmos a valicao cruzada\r\n",
        "#ele tambem pode ser setado para escolher os dados aleatoriamente\r\n",
        "from sklearn.model_selection import KFold\r\n",
        "\r\n",
        "kf = KFold(n_splits=10, shuffle=False)\r\n",
        "\r\n",
        "resultado = cross_val_score(modelo, x, y, cv=kf, scoring='accuracy')\r\n",
        "\r\n",
        "imprimir_percentuais(resultado)"
      ],
      "execution_count": 9,
      "outputs": [
        {
          "output_type": "stream",
          "text": [
            "Percentual medio de acertos 85.46 %\n"
          ],
          "name": "stdout"
        }
      ]
    },
    {
      "cell_type": "code",
      "metadata": {
        "colab": {
          "base_uri": "https://localhost:8080/"
        },
        "id": "1Dk32NoMyf69",
        "outputId": "ee3812b8-a3c5-4541-e0bc-15dfee259115"
      },
      "source": [
        "#outra forma de agrupar os dados é por stratificacao do kfold \r\n",
        "#esse tipo de agrupamento preserva o percentual de instancias em classes \r\n",
        "from sklearn.model_selection import StratifiedKFold\r\n",
        "\r\n",
        "skf = StratifiedKFold(n_splits=10, shuffle=True)\r\n",
        "\r\n",
        "resultado = cross_val_score(modelo, x, y, cv=skf, scoring='accuracy')\r\n",
        "\r\n",
        "imprimir_percentuais(resultado)"
      ],
      "execution_count": 10,
      "outputs": [
        {
          "output_type": "stream",
          "text": [
            "Percentual medio de acertos 91.63 %\n"
          ],
          "name": "stdout"
        }
      ]
    }
  ]
}