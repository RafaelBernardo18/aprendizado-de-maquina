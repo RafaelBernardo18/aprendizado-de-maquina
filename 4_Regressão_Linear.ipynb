{
  "nbformat": 4,
  "nbformat_minor": 0,
  "metadata": {
    "colab": {
      "name": "4 - Regressão_Linear.ipynb",
      "provenance": []
    },
    "kernelspec": {
      "name": "python3",
      "display_name": "Python 3"
    }
  },
  "cells": [
    {
      "cell_type": "markdown",
      "metadata": {
        "id": "uwpWNFvGtqpU"
      },
      "source": [
        "##Importando bibliotecas"
      ]
    },
    {
      "cell_type": "code",
      "metadata": {
        "id": "nJiSUzsctjHr"
      },
      "source": [
        "from sklearn.model_selection import train_test_split\n",
        "from sklearn.datasets import load_boston\n",
        "import numpy as np\n",
        "import pandas as pd"
      ],
      "execution_count": 1,
      "outputs": []
    },
    {
      "cell_type": "markdown",
      "metadata": {
        "id": "t9noq2K5vN_g"
      },
      "source": [
        "##Separando Dados\n",
        " - essa base representa valores de venda de casa em boston"
      ]
    },
    {
      "cell_type": "code",
      "metadata": {
        "id": "JkG3jw0wuQI6",
        "colab": {
          "base_uri": "https://localhost:8080/"
        },
        "outputId": "27d13690-c764-4106-e8a4-5659d4739d2b"
      },
      "source": [
        "x, y = load_boston(return_X_y=True)\n",
        "\n",
        "print(x.shape)\n",
        "print(y.shape) #o valor das casas estão na faixa de k de dolares"
      ],
      "execution_count": 2,
      "outputs": [
        {
          "output_type": "stream",
          "text": [
            "(506, 13)\n",
            "(506,)\n"
          ],
          "name": "stdout"
        }
      ]
    },
    {
      "cell_type": "markdown",
      "metadata": {
        "id": "qGnkvLJ7wLw8"
      },
      "source": [
        "##Transformando dados de entradas em Dataframes\n",
        " - apenas para facilitar nosso trabalho\n",
        " - esses nomes foras retirados da documentação da propria base descrita no scikit-learn.org"
      ]
    },
    {
      "cell_type": "code",
      "metadata": {
        "id": "KaMCGi8xvrUQ",
        "colab": {
          "base_uri": "https://localhost:8080/",
          "height": 447
        },
        "outputId": "be8c4253-408a-48d2-f2eb-f694000e18b5"
      },
      "source": [
        "df_x = pd.DataFrame(data = x , columns=['CRIM','ZN','INDUS','CHAS','NOX','RM',\n",
        "                                        'AGE','DIS','RAD','TAX','PTRATIO', \n",
        "                                        'B 1000(Bk - 0.63)^2', 'LSTAT %'])\n",
        "df_y = pd.DataFrame(data = y, columns=['MEDV'])\n",
        "\n",
        "df_x.head(10).T"
      ],
      "execution_count": 3,
      "outputs": [
        {
          "output_type": "execute_result",
          "data": {
            "text/html": [
              "<div>\n",
              "<style scoped>\n",
              "    .dataframe tbody tr th:only-of-type {\n",
              "        vertical-align: middle;\n",
              "    }\n",
              "\n",
              "    .dataframe tbody tr th {\n",
              "        vertical-align: top;\n",
              "    }\n",
              "\n",
              "    .dataframe thead th {\n",
              "        text-align: right;\n",
              "    }\n",
              "</style>\n",
              "<table border=\"1\" class=\"dataframe\">\n",
              "  <thead>\n",
              "    <tr style=\"text-align: right;\">\n",
              "      <th></th>\n",
              "      <th>0</th>\n",
              "      <th>1</th>\n",
              "      <th>2</th>\n",
              "      <th>3</th>\n",
              "      <th>4</th>\n",
              "      <th>5</th>\n",
              "      <th>6</th>\n",
              "      <th>7</th>\n",
              "      <th>8</th>\n",
              "      <th>9</th>\n",
              "    </tr>\n",
              "  </thead>\n",
              "  <tbody>\n",
              "    <tr>\n",
              "      <th>CRIM</th>\n",
              "      <td>0.00632</td>\n",
              "      <td>0.02731</td>\n",
              "      <td>0.02729</td>\n",
              "      <td>0.03237</td>\n",
              "      <td>0.06905</td>\n",
              "      <td>0.02985</td>\n",
              "      <td>0.08829</td>\n",
              "      <td>0.14455</td>\n",
              "      <td>0.21124</td>\n",
              "      <td>0.17004</td>\n",
              "    </tr>\n",
              "    <tr>\n",
              "      <th>ZN</th>\n",
              "      <td>18.00000</td>\n",
              "      <td>0.00000</td>\n",
              "      <td>0.00000</td>\n",
              "      <td>0.00000</td>\n",
              "      <td>0.00000</td>\n",
              "      <td>0.00000</td>\n",
              "      <td>12.50000</td>\n",
              "      <td>12.50000</td>\n",
              "      <td>12.50000</td>\n",
              "      <td>12.50000</td>\n",
              "    </tr>\n",
              "    <tr>\n",
              "      <th>INDUS</th>\n",
              "      <td>2.31000</td>\n",
              "      <td>7.07000</td>\n",
              "      <td>7.07000</td>\n",
              "      <td>2.18000</td>\n",
              "      <td>2.18000</td>\n",
              "      <td>2.18000</td>\n",
              "      <td>7.87000</td>\n",
              "      <td>7.87000</td>\n",
              "      <td>7.87000</td>\n",
              "      <td>7.87000</td>\n",
              "    </tr>\n",
              "    <tr>\n",
              "      <th>CHAS</th>\n",
              "      <td>0.00000</td>\n",
              "      <td>0.00000</td>\n",
              "      <td>0.00000</td>\n",
              "      <td>0.00000</td>\n",
              "      <td>0.00000</td>\n",
              "      <td>0.00000</td>\n",
              "      <td>0.00000</td>\n",
              "      <td>0.00000</td>\n",
              "      <td>0.00000</td>\n",
              "      <td>0.00000</td>\n",
              "    </tr>\n",
              "    <tr>\n",
              "      <th>NOX</th>\n",
              "      <td>0.53800</td>\n",
              "      <td>0.46900</td>\n",
              "      <td>0.46900</td>\n",
              "      <td>0.45800</td>\n",
              "      <td>0.45800</td>\n",
              "      <td>0.45800</td>\n",
              "      <td>0.52400</td>\n",
              "      <td>0.52400</td>\n",
              "      <td>0.52400</td>\n",
              "      <td>0.52400</td>\n",
              "    </tr>\n",
              "    <tr>\n",
              "      <th>RM</th>\n",
              "      <td>6.57500</td>\n",
              "      <td>6.42100</td>\n",
              "      <td>7.18500</td>\n",
              "      <td>6.99800</td>\n",
              "      <td>7.14700</td>\n",
              "      <td>6.43000</td>\n",
              "      <td>6.01200</td>\n",
              "      <td>6.17200</td>\n",
              "      <td>5.63100</td>\n",
              "      <td>6.00400</td>\n",
              "    </tr>\n",
              "    <tr>\n",
              "      <th>AGE</th>\n",
              "      <td>65.20000</td>\n",
              "      <td>78.90000</td>\n",
              "      <td>61.10000</td>\n",
              "      <td>45.80000</td>\n",
              "      <td>54.20000</td>\n",
              "      <td>58.70000</td>\n",
              "      <td>66.60000</td>\n",
              "      <td>96.10000</td>\n",
              "      <td>100.00000</td>\n",
              "      <td>85.90000</td>\n",
              "    </tr>\n",
              "    <tr>\n",
              "      <th>DIS</th>\n",
              "      <td>4.09000</td>\n",
              "      <td>4.96710</td>\n",
              "      <td>4.96710</td>\n",
              "      <td>6.06220</td>\n",
              "      <td>6.06220</td>\n",
              "      <td>6.06220</td>\n",
              "      <td>5.56050</td>\n",
              "      <td>5.95050</td>\n",
              "      <td>6.08210</td>\n",
              "      <td>6.59210</td>\n",
              "    </tr>\n",
              "    <tr>\n",
              "      <th>RAD</th>\n",
              "      <td>1.00000</td>\n",
              "      <td>2.00000</td>\n",
              "      <td>2.00000</td>\n",
              "      <td>3.00000</td>\n",
              "      <td>3.00000</td>\n",
              "      <td>3.00000</td>\n",
              "      <td>5.00000</td>\n",
              "      <td>5.00000</td>\n",
              "      <td>5.00000</td>\n",
              "      <td>5.00000</td>\n",
              "    </tr>\n",
              "    <tr>\n",
              "      <th>TAX</th>\n",
              "      <td>296.00000</td>\n",
              "      <td>242.00000</td>\n",
              "      <td>242.00000</td>\n",
              "      <td>222.00000</td>\n",
              "      <td>222.00000</td>\n",
              "      <td>222.00000</td>\n",
              "      <td>311.00000</td>\n",
              "      <td>311.00000</td>\n",
              "      <td>311.00000</td>\n",
              "      <td>311.00000</td>\n",
              "    </tr>\n",
              "    <tr>\n",
              "      <th>PTRATIO</th>\n",
              "      <td>15.30000</td>\n",
              "      <td>17.80000</td>\n",
              "      <td>17.80000</td>\n",
              "      <td>18.70000</td>\n",
              "      <td>18.70000</td>\n",
              "      <td>18.70000</td>\n",
              "      <td>15.20000</td>\n",
              "      <td>15.20000</td>\n",
              "      <td>15.20000</td>\n",
              "      <td>15.20000</td>\n",
              "    </tr>\n",
              "    <tr>\n",
              "      <th>B 1000(Bk - 0.63)^2</th>\n",
              "      <td>396.90000</td>\n",
              "      <td>396.90000</td>\n",
              "      <td>392.83000</td>\n",
              "      <td>394.63000</td>\n",
              "      <td>396.90000</td>\n",
              "      <td>394.12000</td>\n",
              "      <td>395.60000</td>\n",
              "      <td>396.90000</td>\n",
              "      <td>386.63000</td>\n",
              "      <td>386.71000</td>\n",
              "    </tr>\n",
              "    <tr>\n",
              "      <th>LSTAT %</th>\n",
              "      <td>4.98000</td>\n",
              "      <td>9.14000</td>\n",
              "      <td>4.03000</td>\n",
              "      <td>2.94000</td>\n",
              "      <td>5.33000</td>\n",
              "      <td>5.21000</td>\n",
              "      <td>12.43000</td>\n",
              "      <td>19.15000</td>\n",
              "      <td>29.93000</td>\n",
              "      <td>17.10000</td>\n",
              "    </tr>\n",
              "  </tbody>\n",
              "</table>\n",
              "</div>"
            ],
            "text/plain": [
              "                             0          1  ...          8          9\n",
              "CRIM                   0.00632    0.02731  ...    0.21124    0.17004\n",
              "ZN                    18.00000    0.00000  ...   12.50000   12.50000\n",
              "INDUS                  2.31000    7.07000  ...    7.87000    7.87000\n",
              "CHAS                   0.00000    0.00000  ...    0.00000    0.00000\n",
              "NOX                    0.53800    0.46900  ...    0.52400    0.52400\n",
              "RM                     6.57500    6.42100  ...    5.63100    6.00400\n",
              "AGE                   65.20000   78.90000  ...  100.00000   85.90000\n",
              "DIS                    4.09000    4.96710  ...    6.08210    6.59210\n",
              "RAD                    1.00000    2.00000  ...    5.00000    5.00000\n",
              "TAX                  296.00000  242.00000  ...  311.00000  311.00000\n",
              "PTRATIO               15.30000   17.80000  ...   15.20000   15.20000\n",
              "B 1000(Bk - 0.63)^2  396.90000  396.90000  ...  386.63000  386.71000\n",
              "LSTAT %                4.98000    9.14000  ...   29.93000   17.10000\n",
              "\n",
              "[13 rows x 10 columns]"
            ]
          },
          "metadata": {
            "tags": []
          },
          "execution_count": 3
        }
      ]
    },
    {
      "cell_type": "markdown",
      "metadata": {
        "id": "7y-qd82kyKPk"
      },
      "source": [
        "##Separando poucos dados para primeira analise"
      ]
    },
    {
      "cell_type": "code",
      "metadata": {
        "id": "S9DeP984yR6s",
        "colab": {
          "base_uri": "https://localhost:8080/",
          "height": 141
        },
        "outputId": "c05fa972-9927-43a9-dea1-54cbb5afe6b8"
      },
      "source": [
        "X = df_x[['AGE', 'DIS', 'ZN']] #valor de entrada usaremos o ano, o tamanho e distancia da casa ao centro\n",
        "Y = df_y['MEDV'] #valor de venda sera o nosso target\n",
        "\n",
        "X.head().T"
      ],
      "execution_count": 4,
      "outputs": [
        {
          "output_type": "execute_result",
          "data": {
            "text/html": [
              "<div>\n",
              "<style scoped>\n",
              "    .dataframe tbody tr th:only-of-type {\n",
              "        vertical-align: middle;\n",
              "    }\n",
              "\n",
              "    .dataframe tbody tr th {\n",
              "        vertical-align: top;\n",
              "    }\n",
              "\n",
              "    .dataframe thead th {\n",
              "        text-align: right;\n",
              "    }\n",
              "</style>\n",
              "<table border=\"1\" class=\"dataframe\">\n",
              "  <thead>\n",
              "    <tr style=\"text-align: right;\">\n",
              "      <th></th>\n",
              "      <th>0</th>\n",
              "      <th>1</th>\n",
              "      <th>2</th>\n",
              "      <th>3</th>\n",
              "      <th>4</th>\n",
              "    </tr>\n",
              "  </thead>\n",
              "  <tbody>\n",
              "    <tr>\n",
              "      <th>AGE</th>\n",
              "      <td>65.20</td>\n",
              "      <td>78.9000</td>\n",
              "      <td>61.1000</td>\n",
              "      <td>45.8000</td>\n",
              "      <td>54.2000</td>\n",
              "    </tr>\n",
              "    <tr>\n",
              "      <th>DIS</th>\n",
              "      <td>4.09</td>\n",
              "      <td>4.9671</td>\n",
              "      <td>4.9671</td>\n",
              "      <td>6.0622</td>\n",
              "      <td>6.0622</td>\n",
              "    </tr>\n",
              "    <tr>\n",
              "      <th>ZN</th>\n",
              "      <td>18.00</td>\n",
              "      <td>0.0000</td>\n",
              "      <td>0.0000</td>\n",
              "      <td>0.0000</td>\n",
              "      <td>0.0000</td>\n",
              "    </tr>\n",
              "  </tbody>\n",
              "</table>\n",
              "</div>"
            ],
            "text/plain": [
              "         0        1        2        3        4\n",
              "AGE  65.20  78.9000  61.1000  45.8000  54.2000\n",
              "DIS   4.09   4.9671   4.9671   6.0622   6.0622\n",
              "ZN   18.00   0.0000   0.0000   0.0000   0.0000"
            ]
          },
          "metadata": {
            "tags": []
          },
          "execution_count": 4
        }
      ]
    },
    {
      "cell_type": "markdown",
      "metadata": {
        "id": "BECy6KeL1jAu"
      },
      "source": [
        "##Primeira Analise"
      ]
    },
    {
      "cell_type": "code",
      "metadata": {
        "id": "lbJ-CpS31FHf",
        "colab": {
          "base_uri": "https://localhost:8080/"
        },
        "outputId": "264ede98-03db-4763-df97-f233dbfc94b2"
      },
      "source": [
        "#separando dados de treino e teste\n",
        "np.random.seed(100)\n",
        "\n",
        "x_treino, x_teste, y_treino, y_teste = train_test_split(X, Y, test_size = 0.25)\n",
        "\n",
        "print(\"foi separados %d dados de teino e %d dados de teste\" % (len(x_treino), len(x_teste)))"
      ],
      "execution_count": 5,
      "outputs": [
        {
          "output_type": "stream",
          "text": [
            "foi separados 379 dados de teino e 127 dados de teste\n"
          ],
          "name": "stdout"
        }
      ]
    },
    {
      "cell_type": "code",
      "metadata": {
        "id": "MfwvNJrz2E6Z",
        "colab": {
          "base_uri": "https://localhost:8080/"
        },
        "outputId": "ffa55eb8-504e-4eb2-91e5-15cf26c7413d"
      },
      "source": [
        "from sklearn.linear_model import LinearRegression\n",
        "\n",
        "modelo = LinearRegression()\n",
        "\n",
        "modelo.fit(x_treino, y_treino)\n",
        "\n",
        "previsao = modelo.predict(x_teste)\n",
        "\n",
        "#calculando o MSE - É a média do quadrado da diferença entre os valores originais e os valores previstos.\n",
        "mse = np.mean((previsao - y_teste)**2) #quando menor a variação desse erro o estimador pode aproximar valores de uma forma melhor\n",
        "\n",
        "print(\"Erro quadratico Médio: %.3f \" % mse)"
      ],
      "execution_count": 6,
      "outputs": [
        {
          "output_type": "stream",
          "text": [
            "Erro quadratico Médio: 83.907 \n"
          ],
          "name": "stdout"
        }
      ]
    },
    {
      "cell_type": "code",
      "metadata": {
        "id": "S4ZnGPGl6rpy",
        "colab": {
          "base_uri": "https://localhost:8080/",
          "height": 141
        },
        "outputId": "b61e406d-7798-4f65-ad3c-2456d5dfb75a"
      },
      "source": [
        "#calculando coeficientes e r-squared\n",
        "\n",
        "#São os pesos atribuídos ao atributos para calcular o valor predito.\n",
        "coef = pd.DataFrame(x_treino.columns)\n",
        "coef['Coeficientes'] = pd.Series(modelo.coef_)\n",
        "\n",
        "coef"
      ],
      "execution_count": 7,
      "outputs": [
        {
          "output_type": "execute_result",
          "data": {
            "text/html": [
              "<div>\n",
              "<style scoped>\n",
              "    .dataframe tbody tr th:only-of-type {\n",
              "        vertical-align: middle;\n",
              "    }\n",
              "\n",
              "    .dataframe tbody tr th {\n",
              "        vertical-align: top;\n",
              "    }\n",
              "\n",
              "    .dataframe thead th {\n",
              "        text-align: right;\n",
              "    }\n",
              "</style>\n",
              "<table border=\"1\" class=\"dataframe\">\n",
              "  <thead>\n",
              "    <tr style=\"text-align: right;\">\n",
              "      <th></th>\n",
              "      <th>0</th>\n",
              "      <th>Coeficientes</th>\n",
              "    </tr>\n",
              "  </thead>\n",
              "  <tbody>\n",
              "    <tr>\n",
              "      <th>0</th>\n",
              "      <td>AGE</td>\n",
              "      <td>-0.124293</td>\n",
              "    </tr>\n",
              "    <tr>\n",
              "      <th>1</th>\n",
              "      <td>DIS</td>\n",
              "      <td>-1.055009</td>\n",
              "    </tr>\n",
              "    <tr>\n",
              "      <th>2</th>\n",
              "      <td>ZN</td>\n",
              "      <td>0.120038</td>\n",
              "    </tr>\n",
              "  </tbody>\n",
              "</table>\n",
              "</div>"
            ],
            "text/plain": [
              "     0  Coeficientes\n",
              "0  AGE     -0.124293\n",
              "1  DIS     -1.055009\n",
              "2   ZN      0.120038"
            ]
          },
          "metadata": {
            "tags": []
          },
          "execution_count": 7
        }
      ]
    },
    {
      "cell_type": "code",
      "metadata": {
        "id": "TzPT_n6L7m7Y",
        "colab": {
          "base_uri": "https://localhost:8080/"
        },
        "outputId": "7c1e52df-156c-48e0-8148-351687c6308e"
      },
      "source": [
        "#calculando coeficientes e r-squared\n",
        "\n",
        "#valor percentual de quando os dados estao proximos da medicao \n",
        "#esse percentual explica o quanto o modelo consegue explicar os valores observados\n",
        "\n",
        "print(\"percentual de r-squared: %.3f\"  %(modelo.score(x_teste, y_teste)*100))"
      ],
      "execution_count": 8,
      "outputs": [
        {
          "output_type": "stream",
          "text": [
            "percentual de r-squared: 14.965\n"
          ],
          "name": "stdout"
        }
      ]
    },
    {
      "cell_type": "markdown",
      "metadata": {
        "id": "0MIgl0W8-sCo"
      },
      "source": [
        "##Segunda Analise\n",
        " - vamos atribuir mais valores"
      ]
    },
    {
      "cell_type": "code",
      "metadata": {
        "id": "z1Jrrgw--3G4",
        "colab": {
          "base_uri": "https://localhost:8080/"
        },
        "outputId": "6b1da855-6107-41a2-fa65-909216ab0216"
      },
      "source": [
        "#verificando valores nulos\n",
        "#é importante fazer esse tipo de verificação\n",
        "#uma grande quantidade de valores nulos reduz o percentual de estimativa do nosso modelo\n",
        "\n",
        "\n",
        "df_x['PTRATIO'].isnull().sum()\n",
        "\n",
        "#caso exista valores nulos encontrados é possivel substituilos pela media total da colula\n",
        "# df_x['Item_Weight'].fillna((df_x['Item_Weight'].mean()), inplace=True)"
      ],
      "execution_count": 9,
      "outputs": [
        {
          "output_type": "execute_result",
          "data": {
            "text/plain": [
              "0"
            ]
          },
          "metadata": {
            "tags": []
          },
          "execution_count": 9
        }
      ]
    },
    {
      "cell_type": "code",
      "metadata": {
        "id": "-UKsy5InAJ04",
        "colab": {
          "base_uri": "https://localhost:8080/",
          "height": 171
        },
        "outputId": "7f890ce5-6a6f-434e-b19d-4cef9675ec06"
      },
      "source": [
        "X = df_x[['AGE', 'DIS', 'ZN', 'PTRATIO']]\n",
        "Y = df_y['MEDV']\n",
        "\n",
        "X.head().T"
      ],
      "execution_count": 10,
      "outputs": [
        {
          "output_type": "execute_result",
          "data": {
            "text/html": [
              "<div>\n",
              "<style scoped>\n",
              "    .dataframe tbody tr th:only-of-type {\n",
              "        vertical-align: middle;\n",
              "    }\n",
              "\n",
              "    .dataframe tbody tr th {\n",
              "        vertical-align: top;\n",
              "    }\n",
              "\n",
              "    .dataframe thead th {\n",
              "        text-align: right;\n",
              "    }\n",
              "</style>\n",
              "<table border=\"1\" class=\"dataframe\">\n",
              "  <thead>\n",
              "    <tr style=\"text-align: right;\">\n",
              "      <th></th>\n",
              "      <th>0</th>\n",
              "      <th>1</th>\n",
              "      <th>2</th>\n",
              "      <th>3</th>\n",
              "      <th>4</th>\n",
              "    </tr>\n",
              "  </thead>\n",
              "  <tbody>\n",
              "    <tr>\n",
              "      <th>AGE</th>\n",
              "      <td>65.20</td>\n",
              "      <td>78.9000</td>\n",
              "      <td>61.1000</td>\n",
              "      <td>45.8000</td>\n",
              "      <td>54.2000</td>\n",
              "    </tr>\n",
              "    <tr>\n",
              "      <th>DIS</th>\n",
              "      <td>4.09</td>\n",
              "      <td>4.9671</td>\n",
              "      <td>4.9671</td>\n",
              "      <td>6.0622</td>\n",
              "      <td>6.0622</td>\n",
              "    </tr>\n",
              "    <tr>\n",
              "      <th>ZN</th>\n",
              "      <td>18.00</td>\n",
              "      <td>0.0000</td>\n",
              "      <td>0.0000</td>\n",
              "      <td>0.0000</td>\n",
              "      <td>0.0000</td>\n",
              "    </tr>\n",
              "    <tr>\n",
              "      <th>PTRATIO</th>\n",
              "      <td>15.30</td>\n",
              "      <td>17.8000</td>\n",
              "      <td>17.8000</td>\n",
              "      <td>18.7000</td>\n",
              "      <td>18.7000</td>\n",
              "    </tr>\n",
              "  </tbody>\n",
              "</table>\n",
              "</div>"
            ],
            "text/plain": [
              "             0        1        2        3        4\n",
              "AGE      65.20  78.9000  61.1000  45.8000  54.2000\n",
              "DIS       4.09   4.9671   4.9671   6.0622   6.0622\n",
              "ZN       18.00   0.0000   0.0000   0.0000   0.0000\n",
              "PTRATIO  15.30  17.8000  17.8000  18.7000  18.7000"
            ]
          },
          "metadata": {
            "tags": []
          },
          "execution_count": 10
        }
      ]
    },
    {
      "cell_type": "code",
      "metadata": {
        "id": "1BLHIsifBg8A",
        "colab": {
          "base_uri": "https://localhost:8080/"
        },
        "outputId": "68bbe8ff-0072-4644-dfcd-ee53825e8c57"
      },
      "source": [
        "#separando dados de treino e teste\n",
        "np.random.seed(100)\n",
        "\n",
        "x_treino, x_teste, y_treino, y_teste = train_test_split(X, Y, test_size = 0.25)\n",
        "\n",
        "print(\"foi separados %d dados de teino e %d dados de teste\" % (len(x_treino), len(x_teste)))"
      ],
      "execution_count": 11,
      "outputs": [
        {
          "output_type": "stream",
          "text": [
            "foi separados 379 dados de teino e 127 dados de teste\n"
          ],
          "name": "stdout"
        }
      ]
    },
    {
      "cell_type": "code",
      "metadata": {
        "id": "y-hIypDMCGqc",
        "colab": {
          "base_uri": "https://localhost:8080/"
        },
        "outputId": "08f7294b-f7b4-4f4f-88c8-199643cf6d2f"
      },
      "source": [
        "modelo.fit(x_treino, y_treino)\n",
        "\n",
        "previsao = modelo.predict(x_teste)\n",
        "\n",
        "#novo MSE\n",
        "mse = np.mean((previsao - y_teste)**2)\n",
        "\n",
        "print(\"novo Erro quadratico Médio: %.3f \" % mse)"
      ],
      "execution_count": 12,
      "outputs": [
        {
          "output_type": "stream",
          "text": [
            "novo Erro quadratico Médio: 67.989 \n"
          ],
          "name": "stdout"
        }
      ]
    },
    {
      "cell_type": "code",
      "metadata": {
        "id": "N0O3vNL9DAYz",
        "colab": {
          "base_uri": "https://localhost:8080/",
          "height": 171
        },
        "outputId": "9ea28d2a-5eb3-4a37-c17c-e514e6f681cd"
      },
      "source": [
        "#calculando coeficientes e r-squared\n",
        "coef = pd.DataFrame(x_treino.columns)\n",
        "coef['Coeficientes'] = pd.Series(modelo.coef_)\n",
        "\n",
        "coef"
      ],
      "execution_count": 13,
      "outputs": [
        {
          "output_type": "execute_result",
          "data": {
            "text/html": [
              "<div>\n",
              "<style scoped>\n",
              "    .dataframe tbody tr th:only-of-type {\n",
              "        vertical-align: middle;\n",
              "    }\n",
              "\n",
              "    .dataframe tbody tr th {\n",
              "        vertical-align: top;\n",
              "    }\n",
              "\n",
              "    .dataframe thead th {\n",
              "        text-align: right;\n",
              "    }\n",
              "</style>\n",
              "<table border=\"1\" class=\"dataframe\">\n",
              "  <thead>\n",
              "    <tr style=\"text-align: right;\">\n",
              "      <th></th>\n",
              "      <th>0</th>\n",
              "      <th>Coeficientes</th>\n",
              "    </tr>\n",
              "  </thead>\n",
              "  <tbody>\n",
              "    <tr>\n",
              "      <th>0</th>\n",
              "      <td>AGE</td>\n",
              "      <td>-0.109916</td>\n",
              "    </tr>\n",
              "    <tr>\n",
              "      <th>1</th>\n",
              "      <td>DIS</td>\n",
              "      <td>-0.882585</td>\n",
              "    </tr>\n",
              "    <tr>\n",
              "      <th>2</th>\n",
              "      <td>ZN</td>\n",
              "      <td>0.058460</td>\n",
              "    </tr>\n",
              "    <tr>\n",
              "      <th>3</th>\n",
              "      <td>PTRATIO</td>\n",
              "      <td>-1.691518</td>\n",
              "    </tr>\n",
              "  </tbody>\n",
              "</table>\n",
              "</div>"
            ],
            "text/plain": [
              "         0  Coeficientes\n",
              "0      AGE     -0.109916\n",
              "1      DIS     -0.882585\n",
              "2       ZN      0.058460\n",
              "3  PTRATIO     -1.691518"
            ]
          },
          "metadata": {
            "tags": []
          },
          "execution_count": 13
        }
      ]
    },
    {
      "cell_type": "code",
      "metadata": {
        "id": "b7u9W52YDFH5",
        "colab": {
          "base_uri": "https://localhost:8080/"
        },
        "outputId": "6061ccc5-b59f-468b-a332-c1daeb2fbfb8"
      },
      "source": [
        "#calculando coeficientes e r-squared\n",
        "print(\"percentual do novo r-squared: %.3f\"  %(modelo.score(x_teste, y_teste)*100)) #obtivemos um ganho percentual"
      ],
      "execution_count": 14,
      "outputs": [
        {
          "output_type": "stream",
          "text": [
            "percentual do novo r-squared: 31.097\n"
          ],
          "name": "stdout"
        }
      ]
    },
    {
      "cell_type": "markdown",
      "metadata": {
        "id": "K9tUZrpzEUDm"
      },
      "source": [
        "##Preprocessamento de dados\n",
        " - é preciso trocar os dados com valor null\n",
        " - trocar os valores não numericos\n",
        " - e trocar os valores 0 "
      ]
    },
    {
      "cell_type": "code",
      "metadata": {
        "id": "pf51Lwjn0LBN",
        "colab": {
          "base_uri": "https://localhost:8080/",
          "height": 447
        },
        "outputId": "6be65d2b-2bbd-4490-f67e-075b2a02eb60"
      },
      "source": [
        "#como a nossa base é numerica e não possui valores null \n",
        "#só previsamos trocar os valores zerados\n",
        "\n",
        "df_x['ZN'] = df_x['ZN'].replace(0,np.mean(df_x['ZN']))\n",
        "\n",
        "df_x.head(10).T"
      ],
      "execution_count": 15,
      "outputs": [
        {
          "output_type": "execute_result",
          "data": {
            "text/html": [
              "<div>\n",
              "<style scoped>\n",
              "    .dataframe tbody tr th:only-of-type {\n",
              "        vertical-align: middle;\n",
              "    }\n",
              "\n",
              "    .dataframe tbody tr th {\n",
              "        vertical-align: top;\n",
              "    }\n",
              "\n",
              "    .dataframe thead th {\n",
              "        text-align: right;\n",
              "    }\n",
              "</style>\n",
              "<table border=\"1\" class=\"dataframe\">\n",
              "  <thead>\n",
              "    <tr style=\"text-align: right;\">\n",
              "      <th></th>\n",
              "      <th>0</th>\n",
              "      <th>1</th>\n",
              "      <th>2</th>\n",
              "      <th>3</th>\n",
              "      <th>4</th>\n",
              "      <th>5</th>\n",
              "      <th>6</th>\n",
              "      <th>7</th>\n",
              "      <th>8</th>\n",
              "      <th>9</th>\n",
              "    </tr>\n",
              "  </thead>\n",
              "  <tbody>\n",
              "    <tr>\n",
              "      <th>CRIM</th>\n",
              "      <td>0.00632</td>\n",
              "      <td>0.027310</td>\n",
              "      <td>0.027290</td>\n",
              "      <td>0.032370</td>\n",
              "      <td>0.069050</td>\n",
              "      <td>0.029850</td>\n",
              "      <td>0.08829</td>\n",
              "      <td>0.14455</td>\n",
              "      <td>0.21124</td>\n",
              "      <td>0.17004</td>\n",
              "    </tr>\n",
              "    <tr>\n",
              "      <th>ZN</th>\n",
              "      <td>18.00000</td>\n",
              "      <td>11.363636</td>\n",
              "      <td>11.363636</td>\n",
              "      <td>11.363636</td>\n",
              "      <td>11.363636</td>\n",
              "      <td>11.363636</td>\n",
              "      <td>12.50000</td>\n",
              "      <td>12.50000</td>\n",
              "      <td>12.50000</td>\n",
              "      <td>12.50000</td>\n",
              "    </tr>\n",
              "    <tr>\n",
              "      <th>INDUS</th>\n",
              "      <td>2.31000</td>\n",
              "      <td>7.070000</td>\n",
              "      <td>7.070000</td>\n",
              "      <td>2.180000</td>\n",
              "      <td>2.180000</td>\n",
              "      <td>2.180000</td>\n",
              "      <td>7.87000</td>\n",
              "      <td>7.87000</td>\n",
              "      <td>7.87000</td>\n",
              "      <td>7.87000</td>\n",
              "    </tr>\n",
              "    <tr>\n",
              "      <th>CHAS</th>\n",
              "      <td>0.00000</td>\n",
              "      <td>0.000000</td>\n",
              "      <td>0.000000</td>\n",
              "      <td>0.000000</td>\n",
              "      <td>0.000000</td>\n",
              "      <td>0.000000</td>\n",
              "      <td>0.00000</td>\n",
              "      <td>0.00000</td>\n",
              "      <td>0.00000</td>\n",
              "      <td>0.00000</td>\n",
              "    </tr>\n",
              "    <tr>\n",
              "      <th>NOX</th>\n",
              "      <td>0.53800</td>\n",
              "      <td>0.469000</td>\n",
              "      <td>0.469000</td>\n",
              "      <td>0.458000</td>\n",
              "      <td>0.458000</td>\n",
              "      <td>0.458000</td>\n",
              "      <td>0.52400</td>\n",
              "      <td>0.52400</td>\n",
              "      <td>0.52400</td>\n",
              "      <td>0.52400</td>\n",
              "    </tr>\n",
              "    <tr>\n",
              "      <th>RM</th>\n",
              "      <td>6.57500</td>\n",
              "      <td>6.421000</td>\n",
              "      <td>7.185000</td>\n",
              "      <td>6.998000</td>\n",
              "      <td>7.147000</td>\n",
              "      <td>6.430000</td>\n",
              "      <td>6.01200</td>\n",
              "      <td>6.17200</td>\n",
              "      <td>5.63100</td>\n",
              "      <td>6.00400</td>\n",
              "    </tr>\n",
              "    <tr>\n",
              "      <th>AGE</th>\n",
              "      <td>65.20000</td>\n",
              "      <td>78.900000</td>\n",
              "      <td>61.100000</td>\n",
              "      <td>45.800000</td>\n",
              "      <td>54.200000</td>\n",
              "      <td>58.700000</td>\n",
              "      <td>66.60000</td>\n",
              "      <td>96.10000</td>\n",
              "      <td>100.00000</td>\n",
              "      <td>85.90000</td>\n",
              "    </tr>\n",
              "    <tr>\n",
              "      <th>DIS</th>\n",
              "      <td>4.09000</td>\n",
              "      <td>4.967100</td>\n",
              "      <td>4.967100</td>\n",
              "      <td>6.062200</td>\n",
              "      <td>6.062200</td>\n",
              "      <td>6.062200</td>\n",
              "      <td>5.56050</td>\n",
              "      <td>5.95050</td>\n",
              "      <td>6.08210</td>\n",
              "      <td>6.59210</td>\n",
              "    </tr>\n",
              "    <tr>\n",
              "      <th>RAD</th>\n",
              "      <td>1.00000</td>\n",
              "      <td>2.000000</td>\n",
              "      <td>2.000000</td>\n",
              "      <td>3.000000</td>\n",
              "      <td>3.000000</td>\n",
              "      <td>3.000000</td>\n",
              "      <td>5.00000</td>\n",
              "      <td>5.00000</td>\n",
              "      <td>5.00000</td>\n",
              "      <td>5.00000</td>\n",
              "    </tr>\n",
              "    <tr>\n",
              "      <th>TAX</th>\n",
              "      <td>296.00000</td>\n",
              "      <td>242.000000</td>\n",
              "      <td>242.000000</td>\n",
              "      <td>222.000000</td>\n",
              "      <td>222.000000</td>\n",
              "      <td>222.000000</td>\n",
              "      <td>311.00000</td>\n",
              "      <td>311.00000</td>\n",
              "      <td>311.00000</td>\n",
              "      <td>311.00000</td>\n",
              "    </tr>\n",
              "    <tr>\n",
              "      <th>PTRATIO</th>\n",
              "      <td>15.30000</td>\n",
              "      <td>17.800000</td>\n",
              "      <td>17.800000</td>\n",
              "      <td>18.700000</td>\n",
              "      <td>18.700000</td>\n",
              "      <td>18.700000</td>\n",
              "      <td>15.20000</td>\n",
              "      <td>15.20000</td>\n",
              "      <td>15.20000</td>\n",
              "      <td>15.20000</td>\n",
              "    </tr>\n",
              "    <tr>\n",
              "      <th>B 1000(Bk - 0.63)^2</th>\n",
              "      <td>396.90000</td>\n",
              "      <td>396.900000</td>\n",
              "      <td>392.830000</td>\n",
              "      <td>394.630000</td>\n",
              "      <td>396.900000</td>\n",
              "      <td>394.120000</td>\n",
              "      <td>395.60000</td>\n",
              "      <td>396.90000</td>\n",
              "      <td>386.63000</td>\n",
              "      <td>386.71000</td>\n",
              "    </tr>\n",
              "    <tr>\n",
              "      <th>LSTAT %</th>\n",
              "      <td>4.98000</td>\n",
              "      <td>9.140000</td>\n",
              "      <td>4.030000</td>\n",
              "      <td>2.940000</td>\n",
              "      <td>5.330000</td>\n",
              "      <td>5.210000</td>\n",
              "      <td>12.43000</td>\n",
              "      <td>19.15000</td>\n",
              "      <td>29.93000</td>\n",
              "      <td>17.10000</td>\n",
              "    </tr>\n",
              "  </tbody>\n",
              "</table>\n",
              "</div>"
            ],
            "text/plain": [
              "                             0           1  ...          8          9\n",
              "CRIM                   0.00632    0.027310  ...    0.21124    0.17004\n",
              "ZN                    18.00000   11.363636  ...   12.50000   12.50000\n",
              "INDUS                  2.31000    7.070000  ...    7.87000    7.87000\n",
              "CHAS                   0.00000    0.000000  ...    0.00000    0.00000\n",
              "NOX                    0.53800    0.469000  ...    0.52400    0.52400\n",
              "RM                     6.57500    6.421000  ...    5.63100    6.00400\n",
              "AGE                   65.20000   78.900000  ...  100.00000   85.90000\n",
              "DIS                    4.09000    4.967100  ...    6.08210    6.59210\n",
              "RAD                    1.00000    2.000000  ...    5.00000    5.00000\n",
              "TAX                  296.00000  242.000000  ...  311.00000  311.00000\n",
              "PTRATIO               15.30000   17.800000  ...   15.20000   15.20000\n",
              "B 1000(Bk - 0.63)^2  396.90000  396.900000  ...  386.63000  386.71000\n",
              "LSTAT %                4.98000    9.140000  ...   29.93000   17.10000\n",
              "\n",
              "[13 rows x 10 columns]"
            ]
          },
          "metadata": {
            "tags": []
          },
          "execution_count": 15
        }
      ]
    },
    {
      "cell_type": "markdown",
      "metadata": {
        "id": "rZFlDZ4t4pjJ"
      },
      "source": [
        "caso fosse preciso transformar dados não numericos poderia ser feito dessa forma \n",
        "\n",
        "from sklearn import preprocessing\n",
        "\n",
        "le = preprocessing.LabelEncoder()\n",
        "\n",
        "\n",
        "  def generate_labelencoder(atts):    \n",
        "    \n",
        "    for attr in atts:\n",
        "      df[attr] = le.fit_transform(df[attr])\n",
        "    return df\n",
        "\n",
        "df = generate_labelencoder(['nome_da_coluna1', 'nome_da_coluna2'])"
      ]
    },
    {
      "cell_type": "markdown",
      "metadata": {
        "id": "72kgvmQl57mo"
      },
      "source": [
        "##Terceira analise\n",
        " - dessa vez usando todos as colunas"
      ]
    },
    {
      "cell_type": "code",
      "metadata": {
        "id": "02RFjtKP3dSa",
        "colab": {
          "base_uri": "https://localhost:8080/",
          "height": 417
        },
        "outputId": "5560c1f9-75e6-4ad1-f012-7a3c81192e80"
      },
      "source": [
        "x = df_x.drop(['CHAS'], axis=1) #x irá receber todsas as colunas de df_X menos CHAS\n",
        "y = df_y\n",
        "\n",
        "x.head().T"
      ],
      "execution_count": 16,
      "outputs": [
        {
          "output_type": "execute_result",
          "data": {
            "text/html": [
              "<div>\n",
              "<style scoped>\n",
              "    .dataframe tbody tr th:only-of-type {\n",
              "        vertical-align: middle;\n",
              "    }\n",
              "\n",
              "    .dataframe tbody tr th {\n",
              "        vertical-align: top;\n",
              "    }\n",
              "\n",
              "    .dataframe thead th {\n",
              "        text-align: right;\n",
              "    }\n",
              "</style>\n",
              "<table border=\"1\" class=\"dataframe\">\n",
              "  <thead>\n",
              "    <tr style=\"text-align: right;\">\n",
              "      <th></th>\n",
              "      <th>0</th>\n",
              "      <th>1</th>\n",
              "      <th>2</th>\n",
              "      <th>3</th>\n",
              "      <th>4</th>\n",
              "    </tr>\n",
              "  </thead>\n",
              "  <tbody>\n",
              "    <tr>\n",
              "      <th>CRIM</th>\n",
              "      <td>0.00632</td>\n",
              "      <td>0.027310</td>\n",
              "      <td>0.027290</td>\n",
              "      <td>0.032370</td>\n",
              "      <td>0.069050</td>\n",
              "    </tr>\n",
              "    <tr>\n",
              "      <th>ZN</th>\n",
              "      <td>18.00000</td>\n",
              "      <td>11.363636</td>\n",
              "      <td>11.363636</td>\n",
              "      <td>11.363636</td>\n",
              "      <td>11.363636</td>\n",
              "    </tr>\n",
              "    <tr>\n",
              "      <th>INDUS</th>\n",
              "      <td>2.31000</td>\n",
              "      <td>7.070000</td>\n",
              "      <td>7.070000</td>\n",
              "      <td>2.180000</td>\n",
              "      <td>2.180000</td>\n",
              "    </tr>\n",
              "    <tr>\n",
              "      <th>NOX</th>\n",
              "      <td>0.53800</td>\n",
              "      <td>0.469000</td>\n",
              "      <td>0.469000</td>\n",
              "      <td>0.458000</td>\n",
              "      <td>0.458000</td>\n",
              "    </tr>\n",
              "    <tr>\n",
              "      <th>RM</th>\n",
              "      <td>6.57500</td>\n",
              "      <td>6.421000</td>\n",
              "      <td>7.185000</td>\n",
              "      <td>6.998000</td>\n",
              "      <td>7.147000</td>\n",
              "    </tr>\n",
              "    <tr>\n",
              "      <th>AGE</th>\n",
              "      <td>65.20000</td>\n",
              "      <td>78.900000</td>\n",
              "      <td>61.100000</td>\n",
              "      <td>45.800000</td>\n",
              "      <td>54.200000</td>\n",
              "    </tr>\n",
              "    <tr>\n",
              "      <th>DIS</th>\n",
              "      <td>4.09000</td>\n",
              "      <td>4.967100</td>\n",
              "      <td>4.967100</td>\n",
              "      <td>6.062200</td>\n",
              "      <td>6.062200</td>\n",
              "    </tr>\n",
              "    <tr>\n",
              "      <th>RAD</th>\n",
              "      <td>1.00000</td>\n",
              "      <td>2.000000</td>\n",
              "      <td>2.000000</td>\n",
              "      <td>3.000000</td>\n",
              "      <td>3.000000</td>\n",
              "    </tr>\n",
              "    <tr>\n",
              "      <th>TAX</th>\n",
              "      <td>296.00000</td>\n",
              "      <td>242.000000</td>\n",
              "      <td>242.000000</td>\n",
              "      <td>222.000000</td>\n",
              "      <td>222.000000</td>\n",
              "    </tr>\n",
              "    <tr>\n",
              "      <th>PTRATIO</th>\n",
              "      <td>15.30000</td>\n",
              "      <td>17.800000</td>\n",
              "      <td>17.800000</td>\n",
              "      <td>18.700000</td>\n",
              "      <td>18.700000</td>\n",
              "    </tr>\n",
              "    <tr>\n",
              "      <th>B 1000(Bk - 0.63)^2</th>\n",
              "      <td>396.90000</td>\n",
              "      <td>396.900000</td>\n",
              "      <td>392.830000</td>\n",
              "      <td>394.630000</td>\n",
              "      <td>396.900000</td>\n",
              "    </tr>\n",
              "    <tr>\n",
              "      <th>LSTAT %</th>\n",
              "      <td>4.98000</td>\n",
              "      <td>9.140000</td>\n",
              "      <td>4.030000</td>\n",
              "      <td>2.940000</td>\n",
              "      <td>5.330000</td>\n",
              "    </tr>\n",
              "  </tbody>\n",
              "</table>\n",
              "</div>"
            ],
            "text/plain": [
              "                             0           1           2           3           4\n",
              "CRIM                   0.00632    0.027310    0.027290    0.032370    0.069050\n",
              "ZN                    18.00000   11.363636   11.363636   11.363636   11.363636\n",
              "INDUS                  2.31000    7.070000    7.070000    2.180000    2.180000\n",
              "NOX                    0.53800    0.469000    0.469000    0.458000    0.458000\n",
              "RM                     6.57500    6.421000    7.185000    6.998000    7.147000\n",
              "AGE                   65.20000   78.900000   61.100000   45.800000   54.200000\n",
              "DIS                    4.09000    4.967100    4.967100    6.062200    6.062200\n",
              "RAD                    1.00000    2.000000    2.000000    3.000000    3.000000\n",
              "TAX                  296.00000  242.000000  242.000000  222.000000  222.000000\n",
              "PTRATIO               15.30000   17.800000   17.800000   18.700000   18.700000\n",
              "B 1000(Bk - 0.63)^2  396.90000  396.900000  392.830000  394.630000  396.900000\n",
              "LSTAT %                4.98000    9.140000    4.030000    2.940000    5.330000"
            ]
          },
          "metadata": {
            "tags": []
          },
          "execution_count": 16
        }
      ]
    },
    {
      "cell_type": "code",
      "metadata": {
        "id": "2-cbl2i36QXi",
        "colab": {
          "base_uri": "https://localhost:8080/"
        },
        "outputId": "440e58e3-1660-4ff9-93b3-f668ce5871af"
      },
      "source": [
        "#separando dados de treino e teste\n",
        "x_treino, x_teste, y_treino, y_teste = train_test_split(x, y, test_size=0.25)\n",
        "\n",
        "print(\"foi separados %d dados de teino e %d dados de teste\" % (len(x_treino), len(x_teste)))"
      ],
      "execution_count": 17,
      "outputs": [
        {
          "output_type": "stream",
          "text": [
            "foi separados 379 dados de teino e 127 dados de teste\n"
          ],
          "name": "stdout"
        }
      ]
    },
    {
      "cell_type": "code",
      "metadata": {
        "id": "YL9xYOiQ6455",
        "colab": {
          "base_uri": "https://localhost:8080/"
        },
        "outputId": "1b65f69e-c745-42ac-c637-5927f532c79f"
      },
      "source": [
        "modelo = LinearRegression()\n",
        "\n",
        "modelo.fit(x_treino, y_treino)\n",
        "\n",
        "previsao = modelo.predict(x_teste)\n",
        "\n",
        "#novo MSE \n",
        "mse = np.mean((previsao - y_teste)**2)\n",
        "\n",
        "print(\"novo Erro quadratico Médio: %.3f \" % mse)"
      ],
      "execution_count": 18,
      "outputs": [
        {
          "output_type": "stream",
          "text": [
            "novo Erro quadratico Médio: 30.539 \n"
          ],
          "name": "stdout"
        }
      ]
    },
    {
      "cell_type": "code",
      "metadata": {
        "id": "0UnVlcRR7WaY",
        "colab": {
          "base_uri": "https://localhost:8080/"
        },
        "outputId": "a3376d7f-724e-4fe4-90e9-6301bbe44606"
      },
      "source": [
        "# r-squared\n",
        "print(\"percentual do novo r-squared: %.3f\"  %(modelo.score(x_teste, y_teste)*100)) "
      ],
      "execution_count": 19,
      "outputs": [
        {
          "output_type": "stream",
          "text": [
            "percentual do novo r-squared: 68.333\n"
          ],
          "name": "stdout"
        }
      ]
    }
  ]
}