{
  "nbformat": 4,
  "nbformat_minor": 0,
  "metadata": {
    "colab": {
      "name": "6 - Sistemas_de_Recomendacao.ipynb",
      "provenance": [],
      "collapsed_sections": []
    },
    "kernelspec": {
      "name": "python3",
      "display_name": "Python 3"
    }
  },
  "cells": [
    {
      "cell_type": "markdown",
      "metadata": {
        "id": "8Cmy7kw7g_fp"
      },
      "source": [
        "##Importando bilbiotecas\n",
        "- diferentes dos modelos de aprendizado que criamos anteriomente, neste vamos utilizar uma equação de coseno similar, que é uma das métricas mais utilizadas para sistemas de recomendaçao \n",
        "- vale lembrar que determinadas cenarios podem ser implementados modelos de machine learning como Kmeans para agrupar os dados semelhantes, ou o KNN utilizando a metrica de distancia manhattan para verificar os pontos que possuiem menor distancia"
      ]
    },
    {
      "cell_type": "code",
      "metadata": {
        "id": "nlyL1MiCg5ua"
      },
      "source": [
        "from sklearn.metrics.pairwise import cosine_similarity\n",
        "from sklearn.feature_extraction.text import CountVectorizer\n",
        "import pandas as pd\n",
        "import numpy as np"
      ],
      "execution_count": 1,
      "outputs": []
    },
    {
      "cell_type": "markdown",
      "metadata": {
        "id": "JXLD1BkbijAS"
      },
      "source": [
        "##Carregando e Tratando base\n",
        " - esta base se trata de livros \n",
        " - nela contem dados como o titulo, autor, genero, peso e editora "
      ]
    },
    {
      "cell_type": "code",
      "metadata": {
        "id": "HAaX_Ud9jCHg"
      },
      "source": [
        "uri = 'https://raw.githubusercontent.com/RafaelBernardo18/aprendizado-de-maquina/main/books.csv.txt'\n",
        "\n",
        "livros = pd.read_csv(uri)"
      ],
      "execution_count": 2,
      "outputs": []
    },
    {
      "cell_type": "code",
      "metadata": {
        "id": "gRpgsSyfjJ51",
        "colab": {
          "base_uri": "https://localhost:8080/",
          "height": 202
        },
        "outputId": "ae3c8839-d4a3-48fb-85d6-e91fb66dc1f4"
      },
      "source": [
        "livros.head()"
      ],
      "execution_count": 3,
      "outputs": [
        {
          "output_type": "execute_result",
          "data": {
            "text/html": [
              "<div>\n",
              "<style scoped>\n",
              "    .dataframe tbody tr th:only-of-type {\n",
              "        vertical-align: middle;\n",
              "    }\n",
              "\n",
              "    .dataframe tbody tr th {\n",
              "        vertical-align: top;\n",
              "    }\n",
              "\n",
              "    .dataframe thead th {\n",
              "        text-align: right;\n",
              "    }\n",
              "</style>\n",
              "<table border=\"1\" class=\"dataframe\">\n",
              "  <thead>\n",
              "    <tr style=\"text-align: right;\">\n",
              "      <th></th>\n",
              "      <th>Title</th>\n",
              "      <th>Author</th>\n",
              "      <th>Genre</th>\n",
              "      <th>Height</th>\n",
              "      <th>Publisher</th>\n",
              "    </tr>\n",
              "  </thead>\n",
              "  <tbody>\n",
              "    <tr>\n",
              "      <th>0</th>\n",
              "      <td>Fundamentals of Wavelets</td>\n",
              "      <td>Goswami, Jaideva</td>\n",
              "      <td>signal_processing</td>\n",
              "      <td>228</td>\n",
              "      <td>Wiley</td>\n",
              "    </tr>\n",
              "    <tr>\n",
              "      <th>1</th>\n",
              "      <td>Data Smart</td>\n",
              "      <td>Foreman, John</td>\n",
              "      <td>data_science</td>\n",
              "      <td>235</td>\n",
              "      <td>Wiley</td>\n",
              "    </tr>\n",
              "    <tr>\n",
              "      <th>2</th>\n",
              "      <td>God Created the Integers</td>\n",
              "      <td>Hawking, Stephen</td>\n",
              "      <td>mathematics</td>\n",
              "      <td>197</td>\n",
              "      <td>Penguin</td>\n",
              "    </tr>\n",
              "    <tr>\n",
              "      <th>3</th>\n",
              "      <td>Superfreakonomics</td>\n",
              "      <td>Dubner, Stephen</td>\n",
              "      <td>economics</td>\n",
              "      <td>179</td>\n",
              "      <td>HarperCollins</td>\n",
              "    </tr>\n",
              "    <tr>\n",
              "      <th>4</th>\n",
              "      <td>Orientalism</td>\n",
              "      <td>Said, Edward</td>\n",
              "      <td>history</td>\n",
              "      <td>197</td>\n",
              "      <td>Penguin</td>\n",
              "    </tr>\n",
              "  </tbody>\n",
              "</table>\n",
              "</div>"
            ],
            "text/plain": [
              "                      Title            Author  ... Height      Publisher\n",
              "0  Fundamentals of Wavelets  Goswami, Jaideva  ...    228          Wiley\n",
              "1                Data Smart     Foreman, John  ...    235          Wiley\n",
              "2  God Created the Integers  Hawking, Stephen  ...    197        Penguin\n",
              "3         Superfreakonomics   Dubner, Stephen  ...    179  HarperCollins\n",
              "4               Orientalism      Said, Edward  ...    197        Penguin\n",
              "\n",
              "[5 rows x 5 columns]"
            ]
          },
          "metadata": {
            "tags": []
          },
          "execution_count": 3
        }
      ]
    },
    {
      "cell_type": "code",
      "metadata": {
        "id": "KLy3N6jmlZKK",
        "colab": {
          "base_uri": "https://localhost:8080/"
        },
        "outputId": "67be1462-050b-451a-b9f6-25bc6cdb1071"
      },
      "source": [
        "#verificando intrancias na base\n",
        "#podemos precerber que há campos não preenchidos\n",
        "livros.info()"
      ],
      "execution_count": 4,
      "outputs": [
        {
          "output_type": "stream",
          "text": [
            "<class 'pandas.core.frame.DataFrame'>\n",
            "RangeIndex: 211 entries, 0 to 210\n",
            "Data columns (total 5 columns):\n",
            " #   Column     Non-Null Count  Dtype \n",
            "---  ------     --------------  ----- \n",
            " 0   Title      211 non-null    object\n",
            " 1   Author     187 non-null    object\n",
            " 2   Genre      211 non-null    object\n",
            " 3   Height     211 non-null    int64 \n",
            " 4   Publisher  115 non-null    object\n",
            "dtypes: int64(1), object(4)\n",
            "memory usage: 8.4+ KB\n"
          ],
          "name": "stdout"
        }
      ]
    },
    {
      "cell_type": "code",
      "metadata": {
        "id": "MvATos30lPjj",
        "colab": {
          "base_uri": "https://localhost:8080/",
          "height": 202
        },
        "outputId": "13c43a8d-2eed-47bf-8a8d-1f33b200c470"
      },
      "source": [
        "livros = livros.dropna() #retirando valores nulos \n",
        "livros = livros.reset_index(drop=True) #não esqueça de resetar o index sempre que retirar valores nulos\n",
        "\n",
        "livros.tail()"
      ],
      "execution_count": 5,
      "outputs": [
        {
          "output_type": "execute_result",
          "data": {
            "text/html": [
              "<div>\n",
              "<style scoped>\n",
              "    .dataframe tbody tr th:only-of-type {\n",
              "        vertical-align: middle;\n",
              "    }\n",
              "\n",
              "    .dataframe tbody tr th {\n",
              "        vertical-align: top;\n",
              "    }\n",
              "\n",
              "    .dataframe thead th {\n",
              "        text-align: right;\n",
              "    }\n",
              "</style>\n",
              "<table border=\"1\" class=\"dataframe\">\n",
              "  <thead>\n",
              "    <tr style=\"text-align: right;\">\n",
              "      <th></th>\n",
              "      <th>Title</th>\n",
              "      <th>Author</th>\n",
              "      <th>Genre</th>\n",
              "      <th>Height</th>\n",
              "      <th>Publisher</th>\n",
              "    </tr>\n",
              "  </thead>\n",
              "  <tbody>\n",
              "    <tr>\n",
              "      <th>107</th>\n",
              "      <td>Rationality &amp; Freedom</td>\n",
              "      <td>Sen, Amartya</td>\n",
              "      <td>economics</td>\n",
              "      <td>213</td>\n",
              "      <td>Springer</td>\n",
              "    </tr>\n",
              "    <tr>\n",
              "      <th>108</th>\n",
              "      <td>Clash of Civilizations and Remaking of the Wor...</td>\n",
              "      <td>Huntington, Samuel</td>\n",
              "      <td>history</td>\n",
              "      <td>228</td>\n",
              "      <td>Simon&amp;Schuster</td>\n",
              "    </tr>\n",
              "    <tr>\n",
              "      <th>109</th>\n",
              "      <td>Uncommon Wisdom</td>\n",
              "      <td>Capra, Fritjof</td>\n",
              "      <td>nonfiction</td>\n",
              "      <td>197</td>\n",
              "      <td>Fontana</td>\n",
              "    </tr>\n",
              "    <tr>\n",
              "      <th>110</th>\n",
              "      <td>One</td>\n",
              "      <td>Bach, Richard</td>\n",
              "      <td>nonfiction</td>\n",
              "      <td>172</td>\n",
              "      <td>Dell</td>\n",
              "    </tr>\n",
              "    <tr>\n",
              "      <th>111</th>\n",
              "      <td>To Sir With Love</td>\n",
              "      <td>Braithwaite</td>\n",
              "      <td>fiction</td>\n",
              "      <td>197</td>\n",
              "      <td>Penguin</td>\n",
              "    </tr>\n",
              "  </tbody>\n",
              "</table>\n",
              "</div>"
            ],
            "text/plain": [
              "                                                 Title  ...       Publisher\n",
              "107                              Rationality & Freedom  ...        Springer\n",
              "108  Clash of Civilizations and Remaking of the Wor...  ...  Simon&Schuster\n",
              "109                                    Uncommon Wisdom  ...         Fontana\n",
              "110                                                One  ...            Dell\n",
              "111                                   To Sir With Love  ...         Penguin\n",
              "\n",
              "[5 rows x 5 columns]"
            ]
          },
          "metadata": {
            "tags": []
          },
          "execution_count": 5
        }
      ]
    },
    {
      "cell_type": "code",
      "metadata": {
        "id": "oqNG1mIoQopj",
        "colab": {
          "base_uri": "https://localhost:8080/",
          "height": 202
        },
        "outputId": "8bb8233a-6ef5-460e-c4ba-e27d238b5073"
      },
      "source": [
        "#criaremos uma coluna que representa o id do livro para usarmos posteriormente\n",
        "numeros = [ ]\n",
        "for i in range(1, 113):\n",
        "    numeros.append(i)\n",
        "\n",
        "\n",
        "df_numeros = pd.DataFrame(numeros, columns = [\"BookId\"])\n",
        "\n",
        "base = pd.concat([livros, df_numeros], axis=1)\n",
        "\n",
        "base.tail()"
      ],
      "execution_count": 6,
      "outputs": [
        {
          "output_type": "execute_result",
          "data": {
            "text/html": [
              "<div>\n",
              "<style scoped>\n",
              "    .dataframe tbody tr th:only-of-type {\n",
              "        vertical-align: middle;\n",
              "    }\n",
              "\n",
              "    .dataframe tbody tr th {\n",
              "        vertical-align: top;\n",
              "    }\n",
              "\n",
              "    .dataframe thead th {\n",
              "        text-align: right;\n",
              "    }\n",
              "</style>\n",
              "<table border=\"1\" class=\"dataframe\">\n",
              "  <thead>\n",
              "    <tr style=\"text-align: right;\">\n",
              "      <th></th>\n",
              "      <th>Title</th>\n",
              "      <th>Author</th>\n",
              "      <th>Genre</th>\n",
              "      <th>Height</th>\n",
              "      <th>Publisher</th>\n",
              "      <th>BookId</th>\n",
              "    </tr>\n",
              "  </thead>\n",
              "  <tbody>\n",
              "    <tr>\n",
              "      <th>107</th>\n",
              "      <td>Rationality &amp; Freedom</td>\n",
              "      <td>Sen, Amartya</td>\n",
              "      <td>economics</td>\n",
              "      <td>213</td>\n",
              "      <td>Springer</td>\n",
              "      <td>108</td>\n",
              "    </tr>\n",
              "    <tr>\n",
              "      <th>108</th>\n",
              "      <td>Clash of Civilizations and Remaking of the Wor...</td>\n",
              "      <td>Huntington, Samuel</td>\n",
              "      <td>history</td>\n",
              "      <td>228</td>\n",
              "      <td>Simon&amp;Schuster</td>\n",
              "      <td>109</td>\n",
              "    </tr>\n",
              "    <tr>\n",
              "      <th>109</th>\n",
              "      <td>Uncommon Wisdom</td>\n",
              "      <td>Capra, Fritjof</td>\n",
              "      <td>nonfiction</td>\n",
              "      <td>197</td>\n",
              "      <td>Fontana</td>\n",
              "      <td>110</td>\n",
              "    </tr>\n",
              "    <tr>\n",
              "      <th>110</th>\n",
              "      <td>One</td>\n",
              "      <td>Bach, Richard</td>\n",
              "      <td>nonfiction</td>\n",
              "      <td>172</td>\n",
              "      <td>Dell</td>\n",
              "      <td>111</td>\n",
              "    </tr>\n",
              "    <tr>\n",
              "      <th>111</th>\n",
              "      <td>To Sir With Love</td>\n",
              "      <td>Braithwaite</td>\n",
              "      <td>fiction</td>\n",
              "      <td>197</td>\n",
              "      <td>Penguin</td>\n",
              "      <td>112</td>\n",
              "    </tr>\n",
              "  </tbody>\n",
              "</table>\n",
              "</div>"
            ],
            "text/plain": [
              "                                                 Title  ... BookId\n",
              "107                              Rationality & Freedom  ...    108\n",
              "108  Clash of Civilizations and Remaking of the Wor...  ...    109\n",
              "109                                    Uncommon Wisdom  ...    110\n",
              "110                                                One  ...    111\n",
              "111                                   To Sir With Love  ...    112\n",
              "\n",
              "[5 rows x 6 columns]"
            ]
          },
          "metadata": {
            "tags": []
          },
          "execution_count": 6
        }
      ]
    },
    {
      "cell_type": "code",
      "metadata": {
        "id": "WywgLyPU8eT-",
        "colab": {
          "base_uri": "https://localhost:8080/"
        },
        "outputId": "82cdad3c-9824-44bc-a021-8fedc375b0ad"
      },
      "source": [
        "base.info()"
      ],
      "execution_count": 7,
      "outputs": [
        {
          "output_type": "stream",
          "text": [
            "<class 'pandas.core.frame.DataFrame'>\n",
            "RangeIndex: 112 entries, 0 to 111\n",
            "Data columns (total 6 columns):\n",
            " #   Column     Non-Null Count  Dtype \n",
            "---  ------     --------------  ----- \n",
            " 0   Title      112 non-null    object\n",
            " 1   Author     112 non-null    object\n",
            " 2   Genre      112 non-null    object\n",
            " 3   Height     112 non-null    int64 \n",
            " 4   Publisher  112 non-null    object\n",
            " 5   BookId     112 non-null    int64 \n",
            "dtypes: int64(2), object(4)\n",
            "memory usage: 5.4+ KB\n"
          ],
          "name": "stdout"
        }
      ]
    },
    {
      "cell_type": "code",
      "metadata": {
        "id": "ZTF6BsDVl6oW",
        "colab": {
          "base_uri": "https://localhost:8080/"
        },
        "outputId": "c1b134db-7a3b-4f8b-fb92-da74e8b3c419"
      },
      "source": [
        "#chamado metodo para verificar se ainda há campos nulos\n",
        "base.isnull().values.any()\n",
        "\n",
        "#retornando a False quer dizer que não posuimos campos não preenchidos"
      ],
      "execution_count": 8,
      "outputs": [
        {
          "output_type": "execute_result",
          "data": {
            "text/plain": [
              "False"
            ]
          },
          "metadata": {
            "tags": []
          },
          "execution_count": 8
        }
      ]
    },
    {
      "cell_type": "markdown",
      "metadata": {
        "id": "eptbTnYUoM18"
      },
      "source": [
        "##Extraindo Valores de interesse "
      ]
    },
    {
      "cell_type": "code",
      "metadata": {
        "id": "7oWmQXC1o8PN",
        "colab": {
          "base_uri": "https://localhost:8080/",
          "height": 141
        },
        "outputId": "148c57bc-846b-429e-ac8e-dabb63fe4b10"
      },
      "source": [
        "#vamos separar apenas as colunas importam para a recomendacao de livros\n",
        "colunas = ['Title', 'Author', 'Genre', 'Publisher']\n",
        "\n",
        "#visualizando colunas que separamos\n",
        "base[colunas].head(3)"
      ],
      "execution_count": 9,
      "outputs": [
        {
          "output_type": "execute_result",
          "data": {
            "text/html": [
              "<div>\n",
              "<style scoped>\n",
              "    .dataframe tbody tr th:only-of-type {\n",
              "        vertical-align: middle;\n",
              "    }\n",
              "\n",
              "    .dataframe tbody tr th {\n",
              "        vertical-align: top;\n",
              "    }\n",
              "\n",
              "    .dataframe thead th {\n",
              "        text-align: right;\n",
              "    }\n",
              "</style>\n",
              "<table border=\"1\" class=\"dataframe\">\n",
              "  <thead>\n",
              "    <tr style=\"text-align: right;\">\n",
              "      <th></th>\n",
              "      <th>Title</th>\n",
              "      <th>Author</th>\n",
              "      <th>Genre</th>\n",
              "      <th>Publisher</th>\n",
              "    </tr>\n",
              "  </thead>\n",
              "  <tbody>\n",
              "    <tr>\n",
              "      <th>0</th>\n",
              "      <td>Fundamentals of Wavelets</td>\n",
              "      <td>Goswami, Jaideva</td>\n",
              "      <td>signal_processing</td>\n",
              "      <td>Wiley</td>\n",
              "    </tr>\n",
              "    <tr>\n",
              "      <th>1</th>\n",
              "      <td>Data Smart</td>\n",
              "      <td>Foreman, John</td>\n",
              "      <td>data_science</td>\n",
              "      <td>Wiley</td>\n",
              "    </tr>\n",
              "    <tr>\n",
              "      <th>2</th>\n",
              "      <td>God Created the Integers</td>\n",
              "      <td>Hawking, Stephen</td>\n",
              "      <td>mathematics</td>\n",
              "      <td>Penguin</td>\n",
              "    </tr>\n",
              "  </tbody>\n",
              "</table>\n",
              "</div>"
            ],
            "text/plain": [
              "                      Title            Author              Genre Publisher\n",
              "0  Fundamentals of Wavelets  Goswami, Jaideva  signal_processing     Wiley\n",
              "1                Data Smart     Foreman, John       data_science     Wiley\n",
              "2  God Created the Integers  Hawking, Stephen        mathematics   Penguin"
            ]
          },
          "metadata": {
            "tags": []
          },
          "execution_count": 9
        }
      ]
    },
    {
      "cell_type": "code",
      "metadata": {
        "id": "LOKmIjrmrfoF",
        "colab": {
          "base_uri": "https://localhost:8080/"
        },
        "outputId": "c4f5e16e-b997-49df-a4f4-014e357b47cc"
      },
      "source": [
        "base[colunas].shape"
      ],
      "execution_count": 10,
      "outputs": [
        {
          "output_type": "execute_result",
          "data": {
            "text/plain": [
              "(112, 4)"
            ]
          },
          "metadata": {
            "tags": []
          },
          "execution_count": 10
        }
      ]
    },
    {
      "cell_type": "code",
      "metadata": {
        "id": "gvJnZNskyhrK",
        "colab": {
          "base_uri": "https://localhost:8080/"
        },
        "outputId": "5515e396-d8f8-46a9-afb7-d6c04ac76b6f"
      },
      "source": [
        "base[colunas].isnull().values.any()"
      ],
      "execution_count": 11,
      "outputs": [
        {
          "output_type": "execute_result",
          "data": {
            "text/plain": [
              "False"
            ]
          },
          "metadata": {
            "tags": []
          },
          "execution_count": 11
        }
      ]
    },
    {
      "cell_type": "code",
      "metadata": {
        "id": "A7u733IHobXs"
      },
      "source": [
        "#criando funçao para juntar os atributos de interesse na nossa base\n",
        "def pegar_valores_importantes(dado):\n",
        "    valores_importantes = [ ]\n",
        "    for i in range(0, dado.shape[0]):\n",
        "      valores_importantes.append(dado['Title'][i] + ' ' + dado['Author'][i] + ' ' + dado['Genre'][i] + ' ' + dado['Publisher'][i])\n",
        "    return valores_importantes"
      ],
      "execution_count": 12,
      "outputs": []
    },
    {
      "cell_type": "code",
      "metadata": {
        "id": "3cOacoeIqQK-"
      },
      "source": [
        "#criando nova coluna na base com os valores que juntamos\n",
        "base['valores_importates'] = pegar_valores_importantes(base)"
      ],
      "execution_count": 13,
      "outputs": []
    },
    {
      "cell_type": "code",
      "metadata": {
        "id": "cwE59xdDEK6c",
        "colab": {
          "base_uri": "https://localhost:8080/",
          "height": 202
        },
        "outputId": "a18dbdc6-4b02-4681-f257-0a4471fa6c44"
      },
      "source": [
        "base.head() #vendo coluna nova"
      ],
      "execution_count": 14,
      "outputs": [
        {
          "output_type": "execute_result",
          "data": {
            "text/html": [
              "<div>\n",
              "<style scoped>\n",
              "    .dataframe tbody tr th:only-of-type {\n",
              "        vertical-align: middle;\n",
              "    }\n",
              "\n",
              "    .dataframe tbody tr th {\n",
              "        vertical-align: top;\n",
              "    }\n",
              "\n",
              "    .dataframe thead th {\n",
              "        text-align: right;\n",
              "    }\n",
              "</style>\n",
              "<table border=\"1\" class=\"dataframe\">\n",
              "  <thead>\n",
              "    <tr style=\"text-align: right;\">\n",
              "      <th></th>\n",
              "      <th>Title</th>\n",
              "      <th>Author</th>\n",
              "      <th>Genre</th>\n",
              "      <th>Height</th>\n",
              "      <th>Publisher</th>\n",
              "      <th>BookId</th>\n",
              "      <th>valores_importates</th>\n",
              "    </tr>\n",
              "  </thead>\n",
              "  <tbody>\n",
              "    <tr>\n",
              "      <th>0</th>\n",
              "      <td>Fundamentals of Wavelets</td>\n",
              "      <td>Goswami, Jaideva</td>\n",
              "      <td>signal_processing</td>\n",
              "      <td>228</td>\n",
              "      <td>Wiley</td>\n",
              "      <td>1</td>\n",
              "      <td>Fundamentals of Wavelets Goswami, Jaideva sign...</td>\n",
              "    </tr>\n",
              "    <tr>\n",
              "      <th>1</th>\n",
              "      <td>Data Smart</td>\n",
              "      <td>Foreman, John</td>\n",
              "      <td>data_science</td>\n",
              "      <td>235</td>\n",
              "      <td>Wiley</td>\n",
              "      <td>2</td>\n",
              "      <td>Data Smart Foreman, John data_science Wiley</td>\n",
              "    </tr>\n",
              "    <tr>\n",
              "      <th>2</th>\n",
              "      <td>God Created the Integers</td>\n",
              "      <td>Hawking, Stephen</td>\n",
              "      <td>mathematics</td>\n",
              "      <td>197</td>\n",
              "      <td>Penguin</td>\n",
              "      <td>3</td>\n",
              "      <td>God Created the Integers Hawking, Stephen math...</td>\n",
              "    </tr>\n",
              "    <tr>\n",
              "      <th>3</th>\n",
              "      <td>Superfreakonomics</td>\n",
              "      <td>Dubner, Stephen</td>\n",
              "      <td>economics</td>\n",
              "      <td>179</td>\n",
              "      <td>HarperCollins</td>\n",
              "      <td>4</td>\n",
              "      <td>Superfreakonomics Dubner, Stephen economics Ha...</td>\n",
              "    </tr>\n",
              "    <tr>\n",
              "      <th>4</th>\n",
              "      <td>Orientalism</td>\n",
              "      <td>Said, Edward</td>\n",
              "      <td>history</td>\n",
              "      <td>197</td>\n",
              "      <td>Penguin</td>\n",
              "      <td>5</td>\n",
              "      <td>Orientalism Said, Edward history Penguin</td>\n",
              "    </tr>\n",
              "  </tbody>\n",
              "</table>\n",
              "</div>"
            ],
            "text/plain": [
              "                      Title  ...                                 valores_importates\n",
              "0  Fundamentals of Wavelets  ...  Fundamentals of Wavelets Goswami, Jaideva sign...\n",
              "1                Data Smart  ...        Data Smart Foreman, John data_science Wiley\n",
              "2  God Created the Integers  ...  God Created the Integers Hawking, Stephen math...\n",
              "3         Superfreakonomics  ...  Superfreakonomics Dubner, Stephen economics Ha...\n",
              "4               Orientalism  ...           Orientalism Said, Edward history Penguin\n",
              "\n",
              "[5 rows x 7 columns]"
            ]
          },
          "metadata": {
            "tags": []
          },
          "execution_count": 14
        }
      ]
    },
    {
      "cell_type": "markdown",
      "metadata": {
        "id": "vbSvAq7nEmqy"
      },
      "source": [
        "##Transformando valores para calculo de coseno similar"
      ]
    },
    {
      "cell_type": "code",
      "metadata": {
        "id": "gPkMrFGtE2wj",
        "colab": {
          "base_uri": "https://localhost:8080/"
        },
        "outputId": "9df29095-a079-43fe-d21f-03a8174bfdff"
      },
      "source": [
        "#o countVectorizer pode transformar um conjunto de dados de texto em matrizes de tokens \n",
        "modelo = CountVectorizer().fit_transform(base['valores_importates'])\n",
        "\n",
        "modelo"
      ],
      "execution_count": 15,
      "outputs": [
        {
          "output_type": "execute_result",
          "data": {
            "text/plain": [
              "<112x436 sparse matrix of type '<class 'numpy.int64'>'\n",
              "\twith 829 stored elements in Compressed Sparse Row format>"
            ]
          },
          "metadata": {
            "tags": []
          },
          "execution_count": 15
        }
      ]
    },
    {
      "cell_type": "code",
      "metadata": {
        "id": "PvwkWxMgFrTN",
        "colab": {
          "base_uri": "https://localhost:8080/"
        },
        "outputId": "b7014709-4ec8-4d30-def7-176a82f35ab3"
      },
      "source": [
        "#criando a matriz de cossenos similares utilizando o modelo tranformado\n",
        "cos_similar = cosine_similarity(modelo)\n",
        "\n",
        "cos_similar"
      ],
      "execution_count": 16,
      "outputs": [
        {
          "output_type": "execute_result",
          "data": {
            "text/plain": [
              "array([[1.        , 0.15430335, 0.        , ..., 0.        , 0.        ,\n",
              "        0.        ],\n",
              "       [0.15430335, 1.        , 0.        , ..., 0.        , 0.        ,\n",
              "        0.        ],\n",
              "       [0.        , 0.        , 1.        , ..., 0.        , 0.        ,\n",
              "        0.13363062],\n",
              "       ...,\n",
              "       [0.        , 0.        , 0.        , ..., 1.        , 0.18257419,\n",
              "        0.        ],\n",
              "       [0.        , 0.        , 0.        , ..., 0.18257419, 1.        ,\n",
              "        0.        ],\n",
              "       [0.        , 0.        , 0.13363062, ..., 0.        , 0.        ,\n",
              "        1.        ]])"
            ]
          },
          "metadata": {
            "tags": []
          },
          "execution_count": 16
        }
      ]
    },
    {
      "cell_type": "code",
      "metadata": {
        "id": "2ym0-f65Gmb0",
        "colab": {
          "base_uri": "https://localhost:8080/"
        },
        "outputId": "f8cf92eb-46a7-4bf0-b427-58d93cc7a326"
      },
      "source": [
        "#perceba que para essa tabela temos uma matriz 112x112 \n",
        "#pois foi realizado um calculo de distancia para todos os valores na coluna\n",
        "cos_similar.shape "
      ],
      "execution_count": 17,
      "outputs": [
        {
          "output_type": "execute_result",
          "data": {
            "text/plain": [
              "(112, 112)"
            ]
          },
          "metadata": {
            "tags": []
          },
          "execution_count": 17
        }
      ]
    },
    {
      "cell_type": "markdown",
      "metadata": {
        "id": "rPbyIUjZHIzr"
      },
      "source": [
        "##Testando recomendação"
      ]
    },
    {
      "cell_type": "code",
      "metadata": {
        "id": "7YlYhmmMHPfu",
        "colab": {
          "base_uri": "https://localhost:8080/"
        },
        "outputId": "05b43019-0d3a-4013-80a9-4016971639fd"
      },
      "source": [
        "#econtranto o valor da instancia/index/bookid referente ao nome do livro que queremos\n",
        "t = 'God Created the Integers'\n",
        "\n",
        "livro_id = base[base.Title == t]['BookId'].values[0] #buscadno o valor do campo BookID na base\n",
        "\n",
        "print(livro_id)"
      ],
      "execution_count": 18,
      "outputs": [
        {
          "output_type": "stream",
          "text": [
            "3\n"
          ],
          "name": "stdout"
        }
      ]
    },
    {
      "cell_type": "code",
      "metadata": {
        "id": "sCXcp_owRrkH",
        "colab": {
          "base_uri": "https://localhost:8080/"
        },
        "outputId": "3128dc92-4f88-4735-b15c-4a90095055a3"
      },
      "source": [
        "#listando o cossenos similares mais proximos\n",
        "#cirando lista ordenada por valores de bookid o como segundo conteudo o valor de coseno similar referente a variavael\n",
        "pontuacao = list(enumerate(cos_similar[livro_id]))\n",
        "\n",
        "print(pontuacao)"
      ],
      "execution_count": 19,
      "outputs": [
        {
          "output_type": "stream",
          "text": [
            "[(0, 0.0), (1, 0.0), (2, 0.15811388300841894), (3, 0.9999999999999999), (4, 0.0), (5, 0.0), (6, 0.0), (7, 0.0), (8, 0.0), (9, 0.0), (10, 0.0), (11, 0.0), (12, 0.0), (13, 0.0), (14, 0.0), (15, 0.0), (16, 0.0), (17, 0.0), (18, 0.0), (19, 0.0), (20, 0.0), (21, 0.0), (22, 0.0), (23, 0.0), (24, 0.0), (25, 0.0), (26, 0.0), (27, 0.0), (28, 0.0), (29, 0.0), (30, 0.14907119849998596), (31, 0.0), (32, 0.0), (33, 0.0), (34, 0.0), (35, 0.0), (36, 0.0), (37, 0.0), (38, 0.0), (39, 0.0), (40, 0.0), (41, 0.0), (42, 0.1414213562373095), (43, 0.6), (44, 0.1690308509457033), (45, 0.0), (46, 0.0), (47, 0.0), (48, 0.0), (49, 0.0), (50, 0.0), (51, 0.0), (52, 0.0), (53, 0.0), (54, 0.0), (55, 0.0), (56, 0.15811388300841894), (57, 0.19999999999999998), (58, 0.0), (59, 0.0), (60, 0.0), (61, 0.0), (62, 0.0), (63, 0.0), (64, 0.0), (65, 0.0), (66, 0.0), (67, 0.0), (68, 0.0), (69, 0.0), (70, 0.0), (71, 0.0), (72, 0.19999999999999998), (73, 0.0), (74, 0.0), (75, 0.14907119849998596), (76, 0.0), (77, 0.0), (78, 0.0), (79, 0.0), (80, 0.0), (81, 0.0), (82, 0.0), (83, 0.0), (84, 0.0), (85, 0.0), (86, 0.0), (87, 0.0), (88, 0.0), (89, 0.0), (90, 0.15811388300841894), (91, 0.15811388300841894), (92, 0.0), (93, 0.0), (94, 0.0), (95, 0.14907119849998596), (96, 0.0), (97, 0.0), (98, 0.0), (99, 0.0), (100, 0.0), (101, 0.0), (102, 0.0), (103, 0.14907119849998596), (104, 0.0), (105, 0.0), (106, 0.0), (107, 0.18257418583505539), (108, 0.0), (109, 0.0), (110, 0.0), (111, 0.0)]\n"
          ],
          "name": "stdout"
        }
      ]
    },
    {
      "cell_type": "code",
      "metadata": {
        "id": "U9cnf609JbVq",
        "colab": {
          "base_uri": "https://localhost:8080/"
        },
        "outputId": "a113cf7a-3896-4789-e845-944e94e3ed4c"
      },
      "source": [
        "#ordenado a pelo cosseno similar maior\n",
        "pontuacao_ordenada = sorted(pontuacao, key = lambda x:x[1], reverse = True)\n",
        "pontuacao_ordenada = pontuacao_ordenada[1:] #retiradno o primeiro elementeo que seria o proprio livro buscado\n",
        "\n",
        "print(pontuacao_ordenada)"
      ],
      "execution_count": 20,
      "outputs": [
        {
          "output_type": "stream",
          "text": [
            "[(43, 0.6), (57, 0.19999999999999998), (72, 0.19999999999999998), (107, 0.18257418583505539), (44, 0.1690308509457033), (2, 0.15811388300841894), (56, 0.15811388300841894), (90, 0.15811388300841894), (91, 0.15811388300841894), (30, 0.14907119849998596), (75, 0.14907119849998596), (95, 0.14907119849998596), (103, 0.14907119849998596), (42, 0.1414213562373095), (0, 0.0), (1, 0.0), (4, 0.0), (5, 0.0), (6, 0.0), (7, 0.0), (8, 0.0), (9, 0.0), (10, 0.0), (11, 0.0), (12, 0.0), (13, 0.0), (14, 0.0), (15, 0.0), (16, 0.0), (17, 0.0), (18, 0.0), (19, 0.0), (20, 0.0), (21, 0.0), (22, 0.0), (23, 0.0), (24, 0.0), (25, 0.0), (26, 0.0), (27, 0.0), (28, 0.0), (29, 0.0), (31, 0.0), (32, 0.0), (33, 0.0), (34, 0.0), (35, 0.0), (36, 0.0), (37, 0.0), (38, 0.0), (39, 0.0), (40, 0.0), (41, 0.0), (45, 0.0), (46, 0.0), (47, 0.0), (48, 0.0), (49, 0.0), (50, 0.0), (51, 0.0), (52, 0.0), (53, 0.0), (54, 0.0), (55, 0.0), (58, 0.0), (59, 0.0), (60, 0.0), (61, 0.0), (62, 0.0), (63, 0.0), (64, 0.0), (65, 0.0), (66, 0.0), (67, 0.0), (68, 0.0), (69, 0.0), (70, 0.0), (71, 0.0), (73, 0.0), (74, 0.0), (76, 0.0), (77, 0.0), (78, 0.0), (79, 0.0), (80, 0.0), (81, 0.0), (82, 0.0), (83, 0.0), (84, 0.0), (85, 0.0), (86, 0.0), (87, 0.0), (88, 0.0), (89, 0.0), (92, 0.0), (93, 0.0), (94, 0.0), (96, 0.0), (97, 0.0), (98, 0.0), (99, 0.0), (100, 0.0), (101, 0.0), (102, 0.0), (104, 0.0), (105, 0.0), (106, 0.0), (108, 0.0), (109, 0.0), (110, 0.0), (111, 0.0)]\n"
          ],
          "name": "stdout"
        }
      ]
    },
    {
      "cell_type": "code",
      "metadata": {
        "id": "KVdONE93KeJu",
        "colab": {
          "base_uri": "https://localhost:8080/"
        },
        "outputId": "55f96c6b-3960-4ecb-e713-cfc2abe0de2f"
      },
      "source": [
        "#por fim vamos visualizar os filmes em que o nosso sistema recomendou\n",
        "j = 0\n",
        "\n",
        "print('os filmes mais recomendados para quem leu: ', t, '\\nsão:')\n",
        "for i in pontuacao_ordenada:\n",
        "    livro_titulo = base[base.BookId == i[0]]['Title'].values[0]\n",
        "    print(j+1, livro_titulo)\n",
        "    j = j+1\n",
        "    if(j>13):\n",
        "        break"
      ],
      "execution_count": 21,
      "outputs": [
        {
          "output_type": "stream",
          "text": [
            "os filmes mais recomendados para quem leu:  God Created the Integers \n",
            "são:\n",
            "1 Tales of Mystery and Imagination\n",
            "2 Textbook of Economic Theory\n",
            "3 Prisoner of Birth, A\n",
            "4 History of Western Philosophy\n",
            "5 Freakonomics\n",
            "6 Data Smart\n",
            "7 Soft Computing & Intelligent Systems\n",
            "8 Bookless in Baghdad\n",
            "9 Theory of Everything, The\n",
            "10 Complete Sherlock Holmes, The - Vol II\n",
            "11 Last Mughal, The\n",
            "12 Burning Bright\n",
            "13 Zen & The Art of Motorcycle Maintenance\n",
            "14 Russian Journal, A\n"
          ],
          "name": "stdout"
        }
      ]
    }
  ]
}