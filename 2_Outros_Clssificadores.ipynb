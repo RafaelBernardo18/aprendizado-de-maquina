{
  "nbformat": 4,
  "nbformat_minor": 0,
  "metadata": {
    "colab": {
      "name": "2 - outros_clssificadores.ipynb",
      "provenance": []
    },
    "kernelspec": {
      "name": "python3",
      "display_name": "Python 3"
    }
  },
  "cells": [
    {
      "cell_type": "markdown",
      "metadata": {
        "id": "F3sTuJjPvgNc"
      },
      "source": [
        "##Importando bibliotecas"
      ]
    },
    {
      "cell_type": "code",
      "metadata": {
        "id": "30l4Qt2WvULA"
      },
      "source": [
        "from sklearn.model_selection import train_test_split\n",
        "from sklearn.metrics import accuracy_score\n",
        "from sklearn.datasets import load_wine\n",
        "import numpy as np"
      ],
      "execution_count": null,
      "outputs": []
    },
    {
      "cell_type": "markdown",
      "metadata": {
        "id": "9R0qTrs6wYk8"
      },
      "source": [
        "##Carregando Base\n",
        " - essa base escolida classifica 3 tipos diferentes de vinhos\n",
        " - ela usa 12 parametros numericos diferentes\n",
        " - é possivel consultar os parametros no site scikit-learn.org"
      ]
    },
    {
      "cell_type": "code",
      "metadata": {
        "id": "XgXKCoYCwehB",
        "colab": {
          "base_uri": "https://localhost:8080/"
        },
        "outputId": "574946d3-7065-46e0-cb90-260ea4a513b3"
      },
      "source": [
        "base = load_wine()\n",
        "\n",
        "print(base.target[[10, 80, 140]])\n",
        "print(list(base.target_names))"
      ],
      "execution_count": null,
      "outputs": [
        {
          "output_type": "stream",
          "text": [
            "[0 1 2]\n",
            "['class_0', 'class_1', 'class_2']\n"
          ],
          "name": "stdout"
        }
      ]
    },
    {
      "cell_type": "markdown",
      "metadata": {
        "id": "v3pNDYBTx6MP"
      },
      "source": [
        "## Separando parametros e resposta"
      ]
    },
    {
      "cell_type": "code",
      "metadata": {
        "id": "VsgN_T7NxBuT",
        "colab": {
          "base_uri": "https://localhost:8080/"
        },
        "outputId": "55662f3e-cff6-4195-bd2e-8a0142cc18a7"
      },
      "source": [
        "x = base['data']\n",
        "y = base['target']\n",
        "\n",
        "x"
      ],
      "execution_count": null,
      "outputs": [
        {
          "output_type": "execute_result",
          "data": {
            "text/plain": [
              "array([[1.423e+01, 1.710e+00, 2.430e+00, ..., 1.040e+00, 3.920e+00,\n",
              "        1.065e+03],\n",
              "       [1.320e+01, 1.780e+00, 2.140e+00, ..., 1.050e+00, 3.400e+00,\n",
              "        1.050e+03],\n",
              "       [1.316e+01, 2.360e+00, 2.670e+00, ..., 1.030e+00, 3.170e+00,\n",
              "        1.185e+03],\n",
              "       ...,\n",
              "       [1.327e+01, 4.280e+00, 2.260e+00, ..., 5.900e-01, 1.560e+00,\n",
              "        8.350e+02],\n",
              "       [1.317e+01, 2.590e+00, 2.370e+00, ..., 6.000e-01, 1.620e+00,\n",
              "        8.400e+02],\n",
              "       [1.413e+01, 4.100e+00, 2.740e+00, ..., 6.100e-01, 1.600e+00,\n",
              "        5.600e+02]])"
            ]
          },
          "metadata": {
            "tags": []
          },
          "execution_count": 3
        }
      ]
    },
    {
      "cell_type": "markdown",
      "metadata": {
        "id": "MzXzOV8-yj-o"
      },
      "source": [
        "##Transformando dados\n",
        " - temos uma variezade grande de dados nessa base\n",
        " - vamos realizar trasnformações para normalizala\n",
        " - assim os classificadores podem ter menos trabalho\n"
      ]
    },
    {
      "cell_type": "code",
      "metadata": {
        "id": "Za-zosq7zUc1",
        "colab": {
          "base_uri": "https://localhost:8080/"
        },
        "outputId": "aeac6bdb-75f2-4994-bea4-865c1ed77c08"
      },
      "source": [
        "from sklearn.preprocessing import StandardScaler\n",
        "\n",
        "#chamando a funçao de randomização para evitar da ml ter sempre o mesmo percentual de acertos\n",
        "#np.random.seed(5)\n",
        "\n",
        "#separando dados\n",
        "x_treino, x_teste, y_treino, y_teste = train_test_split(x, y, test_size=0.25, stratify=y)\n",
        "print(\"Separando %d dados para treino e %d dados para teste\" %(len(x_treino), len(x_teste)))\n",
        "\n",
        "scaler = StandardScaler()\n",
        "scaler.fit(x_treino)\n",
        "novo_x_treino = scaler.transform(x_treino) #transformando dados de treino\n",
        "novo_x_teste = scaler.transform(x_teste) #transformando dados de teste\n",
        "\n",
        "novo_x_treino"
      ],
      "execution_count": null,
      "outputs": [
        {
          "output_type": "stream",
          "text": [
            "Separando 133 dados para treino e 45 dados para teste\n"
          ],
          "name": "stdout"
        },
        {
          "output_type": "execute_result",
          "data": {
            "text/plain": [
              "array([[-0.26220191,  0.32209752,  0.55627868, ..., -2.06714871,\n",
              "        -1.59080461, -0.84878958],\n",
              "       [ 0.34100421,  1.78179577, -0.29545937, ..., -1.5845061 ,\n",
              "        -1.46182045,  0.31888036],\n",
              "       [ 0.21533627,  0.24956593,  0.13040965, ..., -1.5406295 ,\n",
              "        -1.37583101,  0.33532641],\n",
              "       ...,\n",
              "       [ 0.8059756 ,  0.71195482,  0.8660016 , ...,  0.03892811,\n",
              "         1.1178627 ,  0.35177247],\n",
              "       [ 2.20088975, -0.53014866,  0.20784038, ...,  1.31134952,\n",
              "         0.2149736 ,  1.35498185],\n",
              "       [-0.79000726, -1.03786979, -1.61178181, ...,  0.74095372,\n",
              "         1.28984157, -0.75011324]])"
            ]
          },
          "metadata": {
            "tags": []
          },
          "execution_count": 39
        }
      ]
    },
    {
      "cell_type": "markdown",
      "metadata": {
        "id": "CMHq_CC_1jId"
      },
      "source": [
        "##Classificador SVM linear\n",
        " - semelhante a SVM \n",
        " - usa uma metrica de termo linear para se tornar um classificar mais flexivel que o SVM convencional"
      ]
    },
    {
      "cell_type": "code",
      "metadata": {
        "id": "kA1nCCsP3UO7",
        "colab": {
          "base_uri": "https://localhost:8080/"
        },
        "outputId": "0025dead-96f6-4521-c0fe-69f21fe7cf92"
      },
      "source": [
        "from sklearn.svm import LinearSVC\n",
        "\n",
        "modelo = LinearSVC()\n",
        "\n",
        "modelo.fit(novo_x_treino, y_treino)\n",
        "\n",
        "previsao = modelo.predict(novo_x_teste)\n",
        "\n",
        "acertos = accuracy_score(y_teste, previsao) * 100\n",
        "print(\"percentual de acertos usando o classificaro LinearSVC: %.2f\" % acertos + \" %\")"
      ],
      "execution_count": null,
      "outputs": [
        {
          "output_type": "stream",
          "text": [
            "percentual de acertos usando o classificaro LinearSVC: 97.78 %\n"
          ],
          "name": "stdout"
        }
      ]
    },
    {
      "cell_type": "markdown",
      "metadata": {
        "id": "xwJd2KUB6WwL"
      },
      "source": [
        "##Classificador Dummy \n",
        " - classificardor simples\n",
        " - usa apenas a similaridade numerica entre os parametros"
      ]
    },
    {
      "cell_type": "code",
      "metadata": {
        "id": "i0U_Snvl4eX6",
        "colab": {
          "base_uri": "https://localhost:8080/"
        },
        "outputId": "b8745b76-d7c5-4809-eeb0-7419298e4c93"
      },
      "source": [
        "from sklearn.dummy import DummyClassifier\n",
        "\n",
        "modelo = DummyClassifier()\n",
        "\n",
        "modelo.fit(novo_x_treino, y_treino)\n",
        "\n",
        "previsao = modelo.predict(novo_x_teste)\n",
        "\n",
        "acertos = modelo.score(y_teste, previsao) *100 #perceba que o metodo para medir acurracia no dummy é diferente\n",
        "\n",
        "print(\"percentual de acertos usando o classificador dummy: %.2f\" % acertos + \"%\")"
      ],
      "execution_count": null,
      "outputs": [
        {
          "output_type": "stream",
          "text": [
            "percentual de acertos usando o classificador dummy: 15.56%\n"
          ],
          "name": "stdout"
        },
        {
          "output_type": "stream",
          "text": [
            "/usr/local/lib/python3.6/dist-packages/sklearn/dummy.py:132: FutureWarning: The default value of strategy will change from stratified to prior in 0.24.\n",
            "  \"stratified to prior in 0.24.\", FutureWarning)\n"
          ],
          "name": "stderr"
        }
      ]
    },
    {
      "cell_type": "markdown",
      "metadata": {
        "id": "M322RhCR80kP"
      },
      "source": [
        "##Arvore de decisão\n",
        " - cria uma arvore com varios segmentos \n",
        " - os nós possuem semelhanças entre seus caminhos "
      ]
    },
    {
      "cell_type": "code",
      "metadata": {
        "id": "mFWFmfxH7Yci"
      },
      "source": [
        "from sklearn.tree import DecisionTreeClassifier\n",
        "\n",
        "#é preciso setar a pronfundidade maxima da arvore ou ela pode criar um ramo para cada instancia da base\n",
        "modelo = DecisionTreeClassifier(max_depth = 3)\n",
        "\n",
        "modelo.fit(novo_x_treino, y_treino)\n",
        "\n",
        "previsao = modelo.predict(novo_x_teste)\n",
        "\n",
        "acertos = accuracy_score(y_teste, previsao) * 100\n",
        "\n",
        "print(\"percentual de acertos usando arvore de decisao: %.2f\" % acertos +\" %\")"
      ],
      "execution_count": null,
      "outputs": []
    }
  ]
}