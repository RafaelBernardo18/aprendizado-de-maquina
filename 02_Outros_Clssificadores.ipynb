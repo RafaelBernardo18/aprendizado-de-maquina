{
  "nbformat": 4,
  "nbformat_minor": 0,
  "metadata": {
    "colab": {
      "name": "2 - outros_clssificadores.ipynb",
      "provenance": []
    },
    "kernelspec": {
      "name": "python3",
      "display_name": "Python 3"
    }
  },
  "cells": [
    {
      "cell_type": "markdown",
      "metadata": {
        "id": "F3sTuJjPvgNc"
      },
      "source": [
        "##Importando bibliotecas"
      ]
    },
    {
      "cell_type": "code",
      "metadata": {
        "id": "30l4Qt2WvULA"
      },
      "source": [
        "from sklearn.model_selection import train_test_split\n",
        "from sklearn.metrics import accuracy_score\n",
        "from sklearn.datasets import load_wine\n",
        "import numpy as np"
      ],
      "execution_count": 1,
      "outputs": []
    },
    {
      "cell_type": "markdown",
      "metadata": {
        "id": "9R0qTrs6wYk8"
      },
      "source": [
        "##Carregando Base\n",
        " - essa base escolida classifica 3 tipos diferentes de vinhos\n",
        " - ela usa 12 parametros numericos diferentes\n",
        " - é possivel consultar os parametros no site scikit-learn.org"
      ]
    },
    {
      "cell_type": "code",
      "metadata": {
        "id": "XgXKCoYCwehB",
        "colab": {
          "base_uri": "https://localhost:8080/"
        },
        "outputId": "58ffc0ef-f843-4269-8cbf-270e39b812d7"
      },
      "source": [
        "base = load_wine()\n",
        "\n",
        "print(base.target[[10, 80, 140]])\n",
        "print(list(base.target_names))"
      ],
      "execution_count": 2,
      "outputs": [
        {
          "output_type": "stream",
          "text": [
            "[0 1 2]\n",
            "['class_0', 'class_1', 'class_2']\n"
          ],
          "name": "stdout"
        }
      ]
    },
    {
      "cell_type": "markdown",
      "metadata": {
        "id": "v3pNDYBTx6MP"
      },
      "source": [
        "## Separando parametros e resposta"
      ]
    },
    {
      "cell_type": "code",
      "metadata": {
        "id": "VsgN_T7NxBuT",
        "colab": {
          "base_uri": "https://localhost:8080/"
        },
        "outputId": "93381582-7835-4bff-c1a4-dceafe0e40ad"
      },
      "source": [
        "x = base['data']\n",
        "y = base['target']\n",
        "\n",
        "x"
      ],
      "execution_count": 3,
      "outputs": [
        {
          "output_type": "execute_result",
          "data": {
            "text/plain": [
              "array([[1.423e+01, 1.710e+00, 2.430e+00, ..., 1.040e+00, 3.920e+00,\n",
              "        1.065e+03],\n",
              "       [1.320e+01, 1.780e+00, 2.140e+00, ..., 1.050e+00, 3.400e+00,\n",
              "        1.050e+03],\n",
              "       [1.316e+01, 2.360e+00, 2.670e+00, ..., 1.030e+00, 3.170e+00,\n",
              "        1.185e+03],\n",
              "       ...,\n",
              "       [1.327e+01, 4.280e+00, 2.260e+00, ..., 5.900e-01, 1.560e+00,\n",
              "        8.350e+02],\n",
              "       [1.317e+01, 2.590e+00, 2.370e+00, ..., 6.000e-01, 1.620e+00,\n",
              "        8.400e+02],\n",
              "       [1.413e+01, 4.100e+00, 2.740e+00, ..., 6.100e-01, 1.600e+00,\n",
              "        5.600e+02]])"
            ]
          },
          "metadata": {
            "tags": []
          },
          "execution_count": 3
        }
      ]
    },
    {
      "cell_type": "markdown",
      "metadata": {
        "id": "MzXzOV8-yj-o"
      },
      "source": [
        "##Transformando dados\n",
        " - temos uma variezade grande de dados nessa base\n",
        " - vamos realizar trasnformações para normalizala\n",
        " - assim os classificadores podem ter menos trabalho\n"
      ]
    },
    {
      "cell_type": "code",
      "metadata": {
        "id": "Za-zosq7zUc1",
        "colab": {
          "base_uri": "https://localhost:8080/"
        },
        "outputId": "f67e8f75-38a5-4a43-99b3-cfc787e69b3b"
      },
      "source": [
        "from sklearn.preprocessing import StandardScaler\n",
        "\n",
        "#chamando a funçao de randomização para evitar da ml ter sempre o mesmo percentual de acertos\n",
        "#np.random.seed(5)\n",
        "\n",
        "#separando dados\n",
        "x_treino, x_teste, y_treino, y_teste = train_test_split(x, y, test_size=0.25, stratify=y)\n",
        "print(\"Separando %d dados para treino e %d dados para teste\" %(len(x_treino), len(x_teste)))\n",
        "\n",
        "scaler = StandardScaler()\n",
        "scaler.fit(x_treino)\n",
        "novo_x_treino = scaler.transform(x_treino) #transformando dados de treino\n",
        "novo_x_teste = scaler.transform(x_teste) #transformando dados de teste\n",
        "\n",
        "novo_x_treino"
      ],
      "execution_count": 4,
      "outputs": [
        {
          "output_type": "stream",
          "text": [
            "Separando 133 dados para treino e 45 dados para teste\n"
          ],
          "name": "stdout"
        },
        {
          "output_type": "execute_result",
          "data": {
            "text/plain": [
              "array([[-0.07214469,  1.38473517,  1.09334496, ...,  0.29499723,\n",
              "         1.27267023,  0.0252945 ],\n",
              "       [ 0.64719375,  0.80843278,  1.3479483 , ..., -0.30439696,\n",
              "        -0.80211027, -0.73035882],\n",
              "       [-1.86439469,  1.32984923, -1.92552323, ..., -0.90379115,\n",
              "         0.26370163, -0.60340906],\n",
              "       ...,\n",
              "       [ 0.20827538,  0.06747257,  1.16608877, ...,  0.29499723,\n",
              "         0.77529134,  1.27967901],\n",
              "       [ 0.87884511,  3.07705172,  0.36590684, ..., -1.37474373,\n",
              "        -1.25685668, -0.0653839 ],\n",
              "       [ 1.64695226, -0.55456811,  1.27520449, ..., -1.67444083,\n",
              "        -0.94421852, -0.30719296]])"
            ]
          },
          "metadata": {
            "tags": []
          },
          "execution_count": 4
        }
      ]
    },
    {
      "cell_type": "markdown",
      "metadata": {
        "id": "CMHq_CC_1jId"
      },
      "source": [
        "##Classificador SVM linear\n",
        " - semelhante a SVM \n",
        " - usa uma metrica de termo linear para se tornar um classificar mais flexivel que o SVM convencional"
      ]
    },
    {
      "cell_type": "code",
      "metadata": {
        "id": "kA1nCCsP3UO7",
        "colab": {
          "base_uri": "https://localhost:8080/"
        },
        "outputId": "189e1ed3-2a19-4db5-96a0-a39b2d006ae8"
      },
      "source": [
        "from sklearn.svm import LinearSVC\n",
        "\n",
        "modelo = LinearSVC()\n",
        "\n",
        "modelo.fit(novo_x_treino, y_treino)\n",
        "\n",
        "previsao = modelo.predict(novo_x_teste)\n",
        "\n",
        "acertos = accuracy_score(y_teste, previsao) * 100\n",
        "print(\"percentual de acertos usando o classificaro LinearSVC: %.2f\" % acertos + \" %\")"
      ],
      "execution_count": 5,
      "outputs": [
        {
          "output_type": "stream",
          "text": [
            "percentual de acertos usando o classificaro LinearSVC: 93.33 %\n"
          ],
          "name": "stdout"
        }
      ]
    },
    {
      "cell_type": "markdown",
      "metadata": {
        "id": "xwJd2KUB6WwL"
      },
      "source": [
        "##Classificador Dummy \n",
        " - classificardor simples\n",
        " - usa apenas a similaridade numerica entre os parametros"
      ]
    },
    {
      "cell_type": "code",
      "metadata": {
        "id": "i0U_Snvl4eX6",
        "colab": {
          "base_uri": "https://localhost:8080/"
        },
        "outputId": "b6a249c7-c77c-46bb-a9e9-3fd7ab19b803"
      },
      "source": [
        "from sklearn.dummy import DummyClassifier\n",
        "\n",
        "modelo = DummyClassifier()\n",
        "\n",
        "modelo.fit(novo_x_treino, y_treino)\n",
        "\n",
        "previsao = modelo.predict(novo_x_teste)\n",
        "\n",
        "acertos = modelo.score(y_teste, previsao) *100 #perceba que o metodo para medir acurracia no dummy é diferente\n",
        "\n",
        "print(\"percentual de acertos usando o classificador dummy: %.2f\" % acertos + \"%\")"
      ],
      "execution_count": 6,
      "outputs": [
        {
          "output_type": "stream",
          "text": [
            "percentual de acertos usando o classificador dummy: 24.44%\n"
          ],
          "name": "stdout"
        },
        {
          "output_type": "stream",
          "text": [
            "/usr/local/lib/python3.6/dist-packages/sklearn/dummy.py:132: FutureWarning: The default value of strategy will change from stratified to prior in 0.24.\n",
            "  \"stratified to prior in 0.24.\", FutureWarning)\n"
          ],
          "name": "stderr"
        }
      ]
    },
    {
      "cell_type": "markdown",
      "metadata": {
        "id": "M322RhCR80kP"
      },
      "source": [
        "##Arvore de decisão\n",
        " - cria uma arvore com varios segmentos \n",
        " - os nós possuem semelhanças entre seus caminhos "
      ]
    },
    {
      "cell_type": "code",
      "metadata": {
        "id": "mFWFmfxH7Yci",
        "colab": {
          "base_uri": "https://localhost:8080/"
        },
        "outputId": "4d1b61bf-c8e6-4233-980e-b584739cb538"
      },
      "source": [
        "from sklearn.tree import DecisionTreeClassifier\n",
        "\n",
        "#é preciso setar a pronfundidade maxima da arvore ou ela pode criar um ramo para cada instancia da base\n",
        "modelo = DecisionTreeClassifier(max_depth = 3)\n",
        "\n",
        "modelo.fit(novo_x_treino, y_treino)\n",
        "\n",
        "previsao = modelo.predict(novo_x_teste)\n",
        "\n",
        "acertos = accuracy_score(y_teste, previsao) * 100\n",
        "\n",
        "print(\"percentual de acertos usando arvore de decisao: %.2f\" % acertos +\" %\")"
      ],
      "execution_count": 7,
      "outputs": [
        {
          "output_type": "stream",
          "text": [
            "percentual de acertos usando arvore de decisao: 93.33 %\n"
          ],
          "name": "stdout"
        }
      ]
    }
  ]
}
